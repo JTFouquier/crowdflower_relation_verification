{
 "metadata": {
  "name": "",
  "signature": "sha256:884241217e51fb695786075702d6eb6d576693060c5579daf73ebb6f80b1f94a"
 },
 "nbformat": 3,
 "nbformat_minor": 0,
 "worksheets": [
  {
   "cells": [
    {
     "cell_type": "heading",
     "level": 2,
     "metadata": {},
     "source": [
      "Add a unique id to every raw annotation in the EU-ADR"
     ]
    },
    {
     "cell_type": "markdown",
     "metadata": {},
     "source": [
      "2015-04-09 Tong Shu Li"
     ]
    },
    {
     "cell_type": "markdown",
     "metadata": {},
     "source": [
      "The raw annotations in the EU-ADR do not come with unique identifiers. Identifiers were added for easy referencing."
     ]
    },
    {
     "cell_type": "code",
     "collapsed": false,
     "input": [
      "import os"
     ],
     "language": "python",
     "metadata": {},
     "outputs": [],
     "prompt_number": 1
    },
    {
     "cell_type": "code",
     "collapsed": false,
     "input": [
      "from file_util import read_file\n",
      "from file_util import make_dir"
     ],
     "language": "python",
     "metadata": {},
     "outputs": [],
     "prompt_number": 2
    },
    {
     "cell_type": "code",
     "collapsed": false,
     "input": [
      "loc = \"data/euadr_corpus_complete\"\n",
      "new_loc = \"data/id_raw_euadr_corpus\"\n",
      "\n",
      "make_dir(new_loc)\n",
      "\n",
      "for fname in os.listdir(loc):\n",
      "    if fname.endswith(\".txt\"):\n",
      "        pmid = fname[:-4] # PubMed id\n",
      "        with open(os.path.join(new_loc, \"id_{0}\".format(fname)), \"w\") as out:\n",
      "            num = 0\n",
      "            for line in read_file(fname, loc):\n",
      "                vals = line.split('\\t')\n",
      "                assert 10 <= len(vals) <= 11\n",
      "                \n",
      "                if len(vals) == 11: # relationship\n",
      "                    rel_id = \"{0}_raw_rel_{1}\".format(pmid, num)\n",
      "                    num += 1\n",
      "                    vals.append(rel_id)\n",
      "                    \n",
      "                out.write(\"{0}\\n\".format(\"\\t\".join(vals)))"
     ],
     "language": "python",
     "metadata": {},
     "outputs": [],
     "prompt_number": 3
    }
   ],
   "metadata": {}
  }
 ]
}