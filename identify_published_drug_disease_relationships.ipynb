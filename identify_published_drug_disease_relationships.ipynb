{
 "metadata": {
  "name": "",
  "signature": "sha256:9e7e5a6301ef33d0ba47f12e6909c384ccdd40ad2bbd4a9fe638b732cd73841d"
 },
 "nbformat": 3,
 "nbformat_minor": 0,
 "worksheets": [
  {
   "cells": [
    {
     "cell_type": "heading",
     "level": 2,
     "metadata": {},
     "source": [
      "Adds a unique identifier to the published EU-ADR drug-disease relationships"
     ]
    },
    {
     "cell_type": "markdown",
     "metadata": {},
     "source": [
      "2015-04-08 Tong Shu Li"
     ]
    },
    {
     "cell_type": "markdown",
     "metadata": {},
     "source": [
      "The published EU-ADR did not have unique identifiers for the relationships between concepts. Here identifiers are assigned for easy referencing."
     ]
    },
    {
     "cell_type": "code",
     "collapsed": false,
     "input": [
      "import numpy as np\n",
      "import os\n",
      "import pandas as pd"
     ],
     "language": "python",
     "metadata": {},
     "outputs": [],
     "prompt_number": 1
    },
    {
     "cell_type": "markdown",
     "metadata": {},
     "source": [
      "Pandas reads the string literal \"NA\" as meaning that there was a missing entry for that value. We want to convert these to \"negative\" associations instead."
     ]
    },
    {
     "cell_type": "code",
     "collapsed": false,
     "input": [
      "def convert(text):\n",
      "    mapping = {\n",
      "        \"PA\": \"positive\",\n",
      "        \"SA\": \"speculative\",\n",
      "        \"FA\": \"false\",\n",
      "        \"NA\": \"negative\",\n",
      "        np.nan: \"negative\"\n",
      "    }\n",
      "    assert text in mapping\n",
      "    return mapping[text]"
     ],
     "language": "python",
     "metadata": {},
     "outputs": [],
     "prompt_number": 2
    },
    {
     "cell_type": "code",
     "collapsed": false,
     "input": [
      "pub_euadr = pd.read_csv(\"data/published_EUADR_drug_disease.tsv\", sep = \"\\t\")"
     ],
     "language": "python",
     "metadata": {},
     "outputs": [],
     "prompt_number": 3
    },
    {
     "cell_type": "code",
     "collapsed": false,
     "input": [
      "pub_euadr[\"ASSOCIATION_TYPE\"] = pub_euadr[\"ASSOCIATION_TYPE\"].apply(convert)"
     ],
     "language": "python",
     "metadata": {},
     "outputs": [],
     "prompt_number": 4
    },
    {
     "cell_type": "code",
     "collapsed": false,
     "input": [
      "# create published relationship identifiers\n",
      "pub_rel_id = pd.Series([\"drug_disease_{0}\".format(i) for i in range(len(pub_euadr))])\n",
      "pub_euadr[\"pub_rel_id\"] = pub_rel_id"
     ],
     "language": "python",
     "metadata": {},
     "outputs": [],
     "prompt_number": 5
    },
    {
     "cell_type": "code",
     "collapsed": false,
     "input": [
      "# write to a new file\n",
      "pub_euadr.to_csv(\"data/pub_EUADR_drug_disease_id.tsv\", sep = \"\\t\", index = False)"
     ],
     "language": "python",
     "metadata": {},
     "outputs": [],
     "prompt_number": 6
    }
   ],
   "metadata": {}
  }
 ]
}