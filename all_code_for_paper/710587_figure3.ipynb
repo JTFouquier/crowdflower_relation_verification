{
 "metadata": {
  "name": "",
  "signature": "sha256:31890e47bf84d1c19ef2819b41784baa704b81871845b01c472e0302f485ee81"
 },
 "nbformat": 3,
 "nbformat_minor": 0,
 "worksheets": [
  {
   "cells": [
    {
     "cell_type": "heading",
     "level": 2,
     "metadata": {},
     "source": [
      "Plot expert annotator agreement for all drug-disease annotations which showed up in the raw EU-ADR"
     ]
    },
    {
     "cell_type": "code",
     "collapsed": false,
     "input": [
      "from collections import Counter\n",
      "import os\n",
      "import pandas as pd\n",
      "\n",
      "%matplotlib inline\n",
      "%pylab inline"
     ],
     "language": "python",
     "metadata": {},
     "outputs": [
      {
       "output_type": "stream",
       "stream": "stdout",
       "text": [
        "Populating the interactive namespace from numpy and matplotlib\n"
       ]
      }
     ],
     "prompt_number": 1
    },
    {
     "cell_type": "code",
     "collapsed": false,
     "input": [
      "import sys\n",
      "sys.path.append(\"/home/toby/global_util/\")\n",
      "from file_util import read_file"
     ],
     "language": "python",
     "metadata": {},
     "outputs": [],
     "prompt_number": 2
    },
    {
     "cell_type": "code",
     "collapsed": false,
     "input": [
      "def get_annotations(fname, loc):\n",
      "    \"\"\"\n",
      "    Get all the drug-disease annotations from this abstract.\n",
      "    Exclude the computer only annotations.\n",
      "    \n",
      "    If there are multiple answers for the same two concepts,\n",
      "    return the number with greatest agreement.\n",
      "    \"\"\"\n",
      "    links = dict()\n",
      "    for line in read_file(fname, loc):\n",
      "        vals = line.split(\"\\t\")\n",
      "        if vals[0] != \"Drug-Disorder\":\n",
      "            return links\n",
      "        \n",
      "        if len(vals) == 12:\n",
      "            raw_id = vals[11]\n",
      "            annotator_ids = set(vals[9].split(\",\")) - set([\"Computer\"])\n",
      "            \n",
      "            if len(annotator_ids) == 0:\n",
      "                continue\n",
      "            \n",
      "            if (vals[3], vals[4]) not in links:\n",
      "                links[(vals[3], vals[4])] = (raw_id, annotator_ids)\n",
      "            else: # need to replace?\n",
      "                if len(annotator_ids) > links[(vals[3], vals[4])][1]:\n",
      "                    links[(vals[3], vals[4])] = (raw_id, annotator_ids)\n",
      "            \n",
      "    return {val[0]: val[1] for key, val in links.items()} # use the unique identifier"
     ],
     "language": "python",
     "metadata": {},
     "outputs": [],
     "prompt_number": 3
    },
    {
     "cell_type": "code",
     "collapsed": false,
     "input": [
      "loc = \"id_raw_euadr_corpus\"\n",
      "\n",
      "agree = []\n",
      "for fname in os.listdir(loc):\n",
      "    if fname.endswith(\".txt\"):\n",
      "        links = get_annotations(fname, loc)\n",
      "        \n",
      "        for raw_id, annotators in links.items():\n",
      "            agree.append(len(annotators))"
     ],
     "language": "python",
     "metadata": {},
     "outputs": [],
     "prompt_number": 4
    },
    {
     "cell_type": "code",
     "collapsed": false,
     "input": [
      "len(agree)"
     ],
     "language": "python",
     "metadata": {},
     "outputs": [
      {
       "metadata": {},
       "output_type": "pyout",
       "prompt_number": 8,
       "text": [
        "659"
       ]
      }
     ],
     "prompt_number": 8
    },
    {
     "cell_type": "code",
     "collapsed": false,
     "input": [
      "agree = sorted(agree, reverse = True)"
     ],
     "language": "python",
     "metadata": {},
     "outputs": [],
     "prompt_number": 5
    },
    {
     "cell_type": "code",
     "collapsed": false,
     "input": [
      "Counter(agree)"
     ],
     "language": "python",
     "metadata": {},
     "outputs": [
      {
       "metadata": {},
       "output_type": "pyout",
       "prompt_number": 6,
       "text": [
        "Counter({1: 361, 2: 196, 3: 102})"
       ]
      }
     ],
     "prompt_number": 6
    },
    {
     "cell_type": "code",
     "collapsed": false,
     "input": [
      "temp = pd.Series(agree) / 3 * 100\n",
      "graph = temp.plot(title = \"Agreement percentage for the top answer for all raw drug-disease\\n EU-ADR annotations with at least one human annotator\",\n",
      "                  figsize = (8, 5))\n",
      "\n",
      "graph.set_xlabel(\"Original drug-disease annotations in the raw EU-ADR data\")\n",
      "graph.set_ylabel(\"Agreement percentage for expert annotators\\n for the top choice for this annotation\")\n",
      "\n",
      "graph.set_ylim([0, 110])"
     ],
     "language": "python",
     "metadata": {},
     "outputs": [
      {
       "metadata": {},
       "output_type": "pyout",
       "prompt_number": 7,
       "text": [
        "(0, 110)"
       ]
      },
      {
       "metadata": {},
       "output_type": "display_data",
       "png": "[encoded data removed]",
       "text": [
        "<matplotlib.figure.Figure at 0x7f01bf071810>"
       ]
      }
     ],
     "prompt_number": 7
    },
    {
     "cell_type": "code",
     "collapsed": false,
     "input": [],
     "language": "python",
     "metadata": {},
     "outputs": [],
     "prompt_number": 7
    }
   ],
   "metadata": {}
  }
 ]
}