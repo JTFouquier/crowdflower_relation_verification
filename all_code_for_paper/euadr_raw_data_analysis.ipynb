{
 "metadata": {
  "name": "",
  "signature": "sha256:4fae8c11ccbbf824eba4aa7a7ad739b10400a24292f14a3b88221a1f121da3de"
 },
 "nbformat": 3,
 "nbformat_minor": 0,
 "worksheets": [
  {
   "cells": [
    {
     "cell_type": "code",
     "collapsed": false,
     "input": [
      "import pandas as pd"
     ],
     "language": "python",
     "metadata": {},
     "outputs": [],
     "prompt_number": 11
    },
    {
     "cell_type": "code",
     "collapsed": false,
     "input": [
      "import sys\n",
      "sys.path.append(\"/home/toby/global_util/\")\n",
      "from file_util import read_file"
     ],
     "language": "python",
     "metadata": {},
     "outputs": [],
     "prompt_number": 12
    },
    {
     "cell_type": "code",
     "collapsed": false,
     "input": [
      "lol = pd.read_csv(\"drug_disease_semantics/data/EUADR_drug_disease.csv\", sep = \"\\t\")"
     ],
     "language": "python",
     "metadata": {},
     "outputs": [],
     "prompt_number": 14
    },
    {
     "cell_type": "code",
     "collapsed": false,
     "input": [
      "lol.columns.values"
     ],
     "language": "python",
     "metadata": {},
     "outputs": [
      {
       "metadata": {},
       "output_type": "pyout",
       "prompt_number": 16,
       "text": [
        "array(['ASSOCIATION_TYPE', 'PMID', 'NUM_SENTENCE', 'ENTITY1_TEXT',\n",
        "       'ENTITY1_INI', 'ENTITY1_END', 'ENTITY1_TYPE', 'ENTITY2_TEXT',\n",
        "       'ENTITY2_INI', 'ENTITY2_END', 'ENTITY2_TYPE', 'SENTENCE'], dtype=object)"
       ]
      }
     ],
     "prompt_number": 16
    },
    {
     "cell_type": "code",
     "collapsed": false,
     "input": [
      "len(\"perioperative seizures\")"
     ],
     "language": "python",
     "metadata": {},
     "outputs": [
      {
       "metadata": {},
       "output_type": "pyout",
       "prompt_number": 24,
       "text": [
        "22"
       ]
      }
     ],
     "prompt_number": 24
    },
    {
     "cell_type": "code",
     "collapsed": false,
     "input": [
      "1330-1308"
     ],
     "language": "python",
     "metadata": {},
     "outputs": [
      {
       "metadata": {},
       "output_type": "pyout",
       "prompt_number": 25,
       "text": [
        "22"
       ]
      }
     ],
     "prompt_number": 25
    },
    {
     "cell_type": "code",
     "collapsed": false,
     "input": [
      "pmid = 16900551\n",
      "print lol.query(\"PMID == {0}\".format(pmid))"
     ],
     "language": "python",
     "metadata": {},
     "outputs": [
      {
       "output_type": "stream",
       "stream": "stdout",
       "text": [
        "Empty DataFrame\n",
        "Columns: [ASSOCIATION_TYPE, PMID, NUM_SENTENCE, ENTITY1_TEXT, ENTITY1_INI, ENTITY1_END, ENTITY1_TYPE, ENTITY2_TEXT, ENTITY2_INI, ENTITY2_END, ENTITY2_TYPE, SENTENCE]\n",
        "Index: []\n"
       ]
      }
     ],
     "prompt_number": 26
    },
    {
     "cell_type": "code",
     "collapsed": false,
     "input": [
      "loc = \"euadr_corpus_complete\"\n",
      "fname = \"16944312.txt\"\n",
      "\n",
      "for i, line in enumerate(read_file(fname, loc)):\n",
      "    vals = line.split(\"\\t\")\n",
      "    assert len(vals) in [10, 11]\n",
      "    \n",
      "    if len(vals) == 10: # concepts\n",
      "        print vals\n",
      "        \n",
      "    else: # relations\n",
      "        assert len(vals) == 11\n",
      "        \n",
      "        print vals\n",
      "        \n",
      "    print i, len(vals)"
     ],
     "language": "python",
     "metadata": {},
     "outputs": [
      {
       "output_type": "stream",
       "stream": "stdout",
       "text": [
        "['Drug-Disorder', 'True', 'concept', 'seizures', '14', '42', 'annotator1,annotator4,Computer,annotator5', \"['sda/8', 'umls/C0004005']\", '0', 'Diseases & Disorders']\n",
        "0 10\n",
        "['Drug-Disorder', 'True', 'concept', 'primary brain tumors', '60', '80', 'annotator1,annotator4,Computer,annotator5', \"['umls/C0089891', 'sda/1']\", '1', 'Diseases & Disorders']\n",
        "1 10\n",
        "['Drug-Disorder', 'True', 'concept', 'oxcarbazepine', '110', '123', 'annotator1,annotator4,Computer,annotator5', \"['uniprot/4500612', 'uniprot/8509166']\", '2', 'Chemicals & Drugs']\n",
        "2 10\n",
        "['Drug-Disorder', 'True', 'concept', 'seizures', '125', '153', 'annotator1,annotator4,Computer,annotator5', \"['sda/8', 'umls/C0004005']\", '3', 'Diseases & Disorders']\n",
        "3 10\n",
        "['Drug-Disorder', 'False', 'concept', '', '255', '267', 'Computer', \"['umls/C0000923']\", '20', 'Diseases & Disorders']\n",
        "4 10\n",
        "['Drug-Disorder', 'True', 'concept', 'brain tumors', '285', '312', 'annotator1,annotator4,Computer,annotator5', \"['sda/2', 'sda/1', 'umls/C0000567']\", '4', 'Diseases & Disorders']\n",
        "5 10\n",
        "['Drug-Disorder', 'True', 'concept', 'seizures', '406', '428', 'annotator1,annotator4,Computer,annotator5', \"['sda/3', 'umls/C0004005']\", '5', 'Diseases & Disorders']\n",
        "6 10\n",
        "['Drug-Disorder', 'True', 'concept', 'antiepileptic agents', '541', '561', 'annotator1,annotator4,annotator5', \"['sda/4', 'sda/3', 'sda/1']\", '6', 'Chemicals & Drugs']\n",
        "7 10\n",
        "['Drug-Disorder', 'True', 'concept', 'seizures', '584', '606', 'annotator1,annotator4,Computer,annotator5', \"['sda/5', 'umls/C0004005']\", '7', 'Diseases & Disorders']\n",
        "8 10\n",
        "['Drug-Disorder', 'True', 'concept', 'gliomas', '692', '720', 'annotator1,annotator4,Computer,annotator5', \"['sda/7', 'umls/C0001736']\", '8', 'Diseases & Disorders']\n",
        "9 10\n",
        "['Drug-Disorder', 'True', 'concept', 'oxcarbazepine', '760', '773', 'annotator1,annotator4,Computer,annotator5', \"['uniprot/4500612', 'uniprot/8509166']\", '9', 'Chemicals & Drugs']\n",
        "10 10\n",
        "['Drug-Disorder', 'True', 'concept', 'seizures', '824', '852', 'annotator1,annotator4,Computer,annotator5', \"['sda/8', 'umls/C0004005']\", '10', 'Diseases & Disorders']\n",
        "11 10\n",
        "['Drug-Disorder', 'True', 'concept', 'seizures', '941', '949', 'annotator1,annotator4,Computer,annotator5', \"['umls/C0004005']\", '11', 'Diseases & Disorders']\n",
        "12 10\n",
        "['Drug-Disorder', 'True', 'concept', 'minor skin rash', '1121', '1136', 'annotator1,annotator4,annotator4,Computer,Computer,annotator5', \"['sda/9', 'umls/C0148209', 'umls/C0001490']\", '12', 'Diseases & Disorders']\n",
        "13 10\n",
        "['Drug-Disorder', 'True', 'concept', 'hyponatremia', '1161', '1173', 'annotator1,annotator4,Computer,annotator5', \"['umls/C0002178']\", '13', 'Diseases & Disorders']\n",
        "14 10\n",
        "['Drug-Disorder', 'True', 'concept', 'oxcarbazepine', '1211', '1224', 'annotator1,annotator4,Computer,annotator5', \"['uniprot/4500612', 'uniprot/8509166']\", '14', 'Chemicals & Drugs']\n",
        "15 10\n",
        "['Drug-Disorder', 'True', 'concept', 'antiepileptic agents', '1266', '1286', 'annotator1,annotator4,annotator5', \"['sda/4', 'sda/3', 'sda/1']\", '15', 'Chemicals & Drugs']\n",
        "16 10\n",
        "['Drug-Disorder', 'True', 'concept', 'seizures', '1308', '1330', 'annotator1,annotator4,Computer,annotator5', \"['sda/5', 'umls/C0004005']\", '16', 'Diseases & Disorders']\n",
        "17 10\n",
        "['Drug-Disorder', 'False', 'concept', 'side effects', '1466', '1484', 'annotator1,Computer', \"['sda/10', 'umls/C0105312']\", '17', 'Diseases & Disorders']\n",
        "18 10\n",
        "['Drug-Disorder', 'True', 'concept', 'oxcarbazepine', '1570', '1583', 'annotator1,annotator4,Computer,annotator5', \"['uniprot/4500612', 'uniprot/8509166']\", '18', 'Chemicals & Drugs']\n",
        "19 10\n",
        "['Drug-Disorder', 'True', 'concept', 'hematological side effects', '1701', '1727', 'annotator1,Computer,annotator5', \"['sda/11', 'umls/C0105312', 'sda/2']\", '19', 'Diseases & Disorders']\n",
        "20 10\n",
        "['Drug-Disorder', 'False', 'relation', '6', '7', \"['sda/4', 'sda/3', 'sda/1']\", \"['sda/5', 'umls/C0004005']\", '541:561', '584:606', 'annotator1,annotator5', 'SA']\n",
        "21 11\n",
        "['Drug-Disorder', 'True', 'relation', '14', '16', \"['uniprot/4500612', 'uniprot/8509166']\", \"['sda/5', 'umls/C0004005']\", '1211:1224', '1308:1330', 'annotator1,annotator4,Computer,annotator5', 'PA']\n",
        "22 11\n",
        "['Drug-Disorder', 'False', 'relation', '14', '17', \"['uniprot/4500612', 'uniprot/8509166']\", \"['sda/10', 'umls/C0105312']\", '1211:1224', '1466:1484', 'annotator1', 'NA']\n",
        "23 11\n",
        "['Drug-Disorder', 'True', 'relation', '18', '19', \"['uniprot/4500612', 'uniprot/8509166']\", \"['sda/11', 'umls/C0105312', 'sda/2']\", '1570:1583', '1701:1727', 'annotator1,Computer,annotator5', 'PA']\n",
        "24 11\n",
        "['Drug-Disorder', 'False', 'relation', '15', '16', \"['sda/4', 'sda/3', 'sda/1']\", \"['sda/5', 'umls/C0004005']\", '1266:1286', '1308:1330', 'annotator4,annotator5', 'PA']\n",
        "25 11\n",
        "['Drug-Disorder', 'False', 'relation', '2', '0', \"['uniprot/4500612', 'uniprot/8509166']\", \"['sda/8', 'umls/C0004005']\", '110:123', '14:42', 'Computer,annotator5', 'PA']\n",
        "26 11\n",
        "['Drug-Disorder', 'False', 'relation', '2', '1', \"['uniprot/4500612', 'uniprot/8509166']\", \"['umls/C0089891', 'sda/1']\", '110:123', '60:80', 'Computer,annotator5', 'PA']\n",
        "27 11\n",
        "['Drug-Disorder', 'False', 'relation', '9', '10', \"['uniprot/4500612', 'uniprot/8509166']\", \"['sda/8', 'umls/C0004005']\", '760:773', '824:852', 'Computer,annotator5', 'PA']\n",
        "28 11\n",
        "['Drug-Disorder', 'False', 'relation', '9', '8', \"['uniprot/4500612', 'uniprot/8509166']\", \"['sda/7', 'umls/C0001736']\", '760:773', '692:720', 'Computer,annotator5', 'PA']\n",
        "29 11\n",
        "['Drug-Disorder', 'False', 'relation', '14', '17', \"['uniprot/4500612', 'uniprot/8509166']\", \"['sda/10', 'umls/C0105312']\", '1211:1224', '1466:1484', 'Computer', 'PA']\n",
        "30 11\n"
       ]
      }
     ],
     "prompt_number": 23
    },
    {
     "cell_type": "code",
     "collapsed": false,
     "input": [],
     "language": "python",
     "metadata": {},
     "outputs": []
    }
   ],
   "metadata": {}
  }
 ]
}