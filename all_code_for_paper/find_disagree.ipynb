{
 "metadata": {
  "name": "",
  "signature": "sha256:c48a874128cc790699cedebb183e1ec134351f142f697442bdb75b65c3e4ad17"
 },
 "nbformat": 3,
 "nbformat_minor": 0,
 "worksheets": [
  {
   "cells": [
    {
     "cell_type": "heading",
     "level": 2,
     "metadata": {},
     "source": [
      "Find the raw annotations where experts disagreed"
     ]
    },
    {
     "cell_type": "markdown",
     "metadata": {},
     "source": [
      "2015-04-09 Toby"
     ]
    },
    {
     "cell_type": "code",
     "collapsed": false,
     "input": [
      "import re"
     ],
     "language": "python",
     "metadata": {},
     "outputs": [],
     "prompt_number": 1
    },
    {
     "cell_type": "code",
     "collapsed": false,
     "input": [
      "import sys\n",
      "sys.path.append(\"/home/toby/global_util/\")\n",
      "from file_util import read_file"
     ],
     "language": "python",
     "metadata": {},
     "outputs": [],
     "prompt_number": 2
    },
    {
     "cell_type": "code",
     "collapsed": false,
     "input": [
      "def correct_format(raw_id):\n",
      "    return re.match(r'^t_\\d{8}_rel_\\d+$', raw_id) is not None"
     ],
     "language": "python",
     "metadata": {},
     "outputs": [],
     "prompt_number": 3
    },
    {
     "cell_type": "code",
     "collapsed": false,
     "input": [
      "# given a raw id, get the original row of data\n",
      "def get_orig_annotation(raw_id):\n",
      "    assert correct_format(raw_id)\n",
      "    \n",
      "    pmid = raw_id[2:10]\n",
      "    fname = \"id_{0}.txt\".format(pmid)\n",
      "    \n",
      "    loc = \"/home/toby/crowdsourcing/id_raw_euadr_corpus\"\n",
      "    \n",
      "    for line in read_file(fname, loc):\n",
      "        vals = line.split(\"\\t\")\n",
      "        if len(vals) == 12 and vals[11] == raw_id:\n",
      "            return vals"
     ],
     "language": "python",
     "metadata": {},
     "outputs": [],
     "prompt_number": 4
    },
    {
     "cell_type": "code",
     "collapsed": false,
     "input": [
      "def get_all_raw_annotations(pmid):\n",
      "    fname = \"id_{0}.txt\".format(pmid)\n",
      "    loc = \"/home/toby/crowdsourcing/id_raw_euadr_corpus\"\n",
      "    \n",
      "    ans = []\n",
      "    for line in read_file(fname, loc):\n",
      "        vals = line.split(\"\\t\")\n",
      "        if len(vals) == 12:\n",
      "            ans.append(vals)\n",
      "            \n",
      "    return ans"
     ],
     "language": "python",
     "metadata": {},
     "outputs": [],
     "prompt_number": 5
    },
    {
     "cell_type": "code",
     "collapsed": false,
     "input": [
      "def retrieve_similar_annotations(raw_id):\n",
      "    \"\"\"\n",
      "    Grabs the annotations which were about the same two concepts as the given id.\n",
      "    \"\"\"\n",
      "    main_annotation = get_orig_annotation(raw_id)\n",
      "    \n",
      "    sub = main_annotation[3]\n",
      "    obj = main_annotation[4]\n",
      "    \n",
      "    pmid = raw_id[2:10]\n",
      "    all_annotations = get_all_raw_annotations(pmid)\n",
      "    \n",
      "    ans = []\n",
      "    for annotation in all_annotations:\n",
      "        if sub == annotation[3] and obj == annotation[4]:\n",
      "            ans.append(annotation)\n",
      "            \n",
      "    return ans"
     ],
     "language": "python",
     "metadata": {},
     "outputs": [],
     "prompt_number": 8
    },
    {
     "cell_type": "code",
     "collapsed": false,
     "input": [
      "raw_id = \"t_17894421_rel_5\"\n",
      "retrieve_similar_annotations(raw_id)"
     ],
     "language": "python",
     "metadata": {},
     "outputs": [
      {
       "metadata": {},
       "output_type": "pyout",
       "prompt_number": 9,
       "text": [
        "[['Drug-Disorder',\n",
        "  'False',\n",
        "  'relation',\n",
        "  '5',\n",
        "  '7',\n",
        "  \"['sda/4', 'sda/3']\",\n",
        "  \"['sda/13', 'umls/C0000013']\",\n",
        "  '166:169',\n",
        "  '254:278',\n",
        "  'annotator1',\n",
        "  'SA',\n",
        "  't_17894421_rel_5'],\n",
        " ['Drug-Disorder',\n",
        "  'False',\n",
        "  'relation',\n",
        "  '5',\n",
        "  '7',\n",
        "  \"['sda/4', 'sda/3']\",\n",
        "  \"['sda/13', 'umls/C0000013']\",\n",
        "  '166:169',\n",
        "  '254:278',\n",
        "  'annotator5',\n",
        "  'NA',\n",
        "  't_17894421_rel_11']]"
       ]
      }
     ],
     "prompt_number": 9
    },
    {
     "cell_type": "code",
     "collapsed": false,
     "input": [],
     "language": "python",
     "metadata": {},
     "outputs": []
    }
   ],
   "metadata": {}
  }
 ]
}