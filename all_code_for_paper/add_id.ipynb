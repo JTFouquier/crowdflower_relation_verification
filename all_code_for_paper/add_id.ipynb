{
 "metadata": {
  "name": "",
  "signature": "sha256:e8ecb281019e16eee1870e148bb50441d45743edd8b0ae5dea4a986623c04412"
 },
 "nbformat": 3,
 "nbformat_minor": 0,
 "worksheets": [
  {
   "cells": [
    {
     "cell_type": "heading",
     "level": 2,
     "metadata": {},
     "source": [
      "Add a unique raw annotation id to every annotation in the raw EUADR"
     ]
    },
    {
     "cell_type": "markdown",
     "metadata": {},
     "source": [
      "2015-04-09 Toby"
     ]
    },
    {
     "cell_type": "code",
     "collapsed": false,
     "input": [
      "import os"
     ],
     "language": "python",
     "metadata": {},
     "outputs": [],
     "prompt_number": 1
    },
    {
     "cell_type": "code",
     "collapsed": false,
     "input": [
      "import sys\n",
      "sys.path.append(\"/home/toby/global_util/\")\n",
      "from file_util import read_file"
     ],
     "language": "python",
     "metadata": {},
     "outputs": [],
     "prompt_number": 2
    },
    {
     "cell_type": "code",
     "collapsed": false,
     "input": [
      "loc = \"euadr_corpus_complete\"\n",
      "nloc = \"id_raw_euadr_corpus\"\n",
      "\n",
      "for fname in os.listdir(loc):\n",
      "    if fname.endswith(\".txt\"):\n",
      "        pmid = fname[:-4]\n",
      "        with open(os.path.join(nloc, \"id_{0}\".format(fname)), \"w\") as out:\n",
      "            num = 0\n",
      "            for line in read_file(fname, loc):\n",
      "                vals = line.split('\\t')\n",
      "\n",
      "                if len(vals) == 10: # concept\n",
      "                    # ignore and output again because they have their own identifiers already\n",
      "                    out.write(\"{0}\\n\".format(line))\n",
      "                else:\n",
      "                    # add an identifier\n",
      "                    rel_id = \"t_{0}_rel_{1}\".format(pmid, num)\n",
      "                    num += 1\n",
      "                    \n",
      "                    vals.append(rel_id)\n",
      "                    out.write(\"{0}\\n\".format(\"\\t\".join(vals)))"
     ],
     "language": "python",
     "metadata": {},
     "outputs": [],
     "prompt_number": 3
    },
    {
     "cell_type": "code",
     "collapsed": false,
     "input": [],
     "language": "python",
     "metadata": {},
     "outputs": []
    }
   ],
   "metadata": {}
  }
 ]
}