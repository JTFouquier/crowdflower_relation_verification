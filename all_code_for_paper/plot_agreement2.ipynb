{
 "metadata": {
  "name": "",
  "signature": "sha256:8262e81afb81396d2575e79723a5860ff28d6cb4cf18dd9f74e4c9994ae74aa9"
 },
 "nbformat": 3,
 "nbformat_minor": 0,
 "worksheets": [
  {
   "cells": [
    {
     "cell_type": "markdown",
     "metadata": {},
     "source": [
      "Plot expert agreement with regular agreement"
     ]
    },
    {
     "cell_type": "markdown",
     "metadata": {},
     "source": [
      "ONly for the work units where the crowd answer DISAGREED with the experts"
     ]
    },
    {
     "cell_type": "code",
     "collapsed": false,
     "input": [
      "import pandas as pd\n",
      "import matplotlib.pyplot as plt\n",
      "import os\n",
      "import numpy as np\n",
      "\n",
      "%matplotlib inline\n",
      "%pylab inline"
     ],
     "language": "python",
     "metadata": {},
     "outputs": [
      {
       "output_type": "stream",
       "stream": "stdout",
       "text": [
        "Populating the interactive namespace from numpy and matplotlib\n"
       ]
      }
     ],
     "prompt_number": 1
    },
    {
     "cell_type": "code",
     "collapsed": false,
     "input": [
      "import sys\n",
      "sys.path.append(\"/home/toby/crowdsourcing/drug_disease_semantics/src/\")\n",
      "\n",
      "from filter_data import filter_data\n",
      "from true_relation_type import get_euadr_relation_type\n",
      "\n",
      "from aggregate_votes import aggregate_votes\n",
      "\n",
      "from collections import defaultdict"
     ],
     "language": "python",
     "metadata": {},
     "outputs": [],
     "prompt_number": 2
    },
    {
     "cell_type": "code",
     "collapsed": false,
     "input": [
      "settings = {\n",
      "    \"loc\": \"/home/toby/crowdsourcing/drug_disease_semantics/data\",\n",
      "    \"fname\": \"job_710587_full_with_untrusted.tsv\",\n",
      "    \"data_subset\": \"normal\",\n",
      "    \"min_accuracy\": 0.7,\n",
      "    \"max_accuracy\": 1.0,\n",
      "    \"sentence_type\": \"all\"\n",
      "}\n",
      "\n",
      "raw_data = filter_data(settings)\n",
      "euadr_answer = get_euadr_relation_type(settings)"
     ],
     "language": "python",
     "metadata": {},
     "outputs": [],
     "prompt_number": 3
    },
    {
     "cell_type": "code",
     "collapsed": false,
     "input": [
      "raw_data.columns.values"
     ],
     "language": "python",
     "metadata": {},
     "outputs": [
      {
       "metadata": {},
       "output_type": "pyout",
       "prompt_number": 4,
       "text": [
        "array(['_unit_id', '_created_at', '_golden', '_id', '_missed',\n",
        "       '_started_at', '_tainted', '_channel', '_trust', '_worker_id',\n",
        "       '_country', '_region', '_city', '_ip', 'broad_rel_type',\n",
        "       'comments_box', 'deep_semantics', 'broad_rel_type_gold',\n",
        "       'data_subset', 'deep_semantics_gold', 'form_object', 'form_subject',\n",
        "       'formatted_sentence', 'gold_std_association_type', 'num_sentence',\n",
        "       'object_end', 'object_start', 'object_text', 'object_type',\n",
        "       'original_sentence', 'pubmed_id', 'subject_end', 'subject_start',\n",
        "       'subject_text', 'subject_type'], dtype=object)"
       ]
      }
     ],
     "prompt_number": 4
    },
    {
     "cell_type": "code",
     "collapsed": false,
     "input": [
      "def matches(gold_ans, crowd_ans):\n",
      "    return int(gold_ans == crowd_ans)\n",
      "\n",
      "def determine_broad_reltype_results(true_relation_type, data):\n",
      "    \"\"\"\n",
      "    Calculates the agreement percentage and determines whether the\n",
      "    top crowd response matches the gold standard for all work units.\n",
      "    \"\"\"\n",
      "    result = []\n",
      "    for unit_id, group in data.groupby(\"_unit_id\"):\n",
      "        ans = aggregate_votes(\"broad_rel_type\", group)\n",
      "\n",
      "        total_vote_score = sum(ans[\"conf_score\"])\n",
      "        percent_agreement = ans[\"conf_score\"] / total_vote_score\n",
      "        \n",
      "        match = [matches(true_relation_type[unit_id], val) for val in ans[\"broad_rel_type\"]]\n",
      "\n",
      "        ans.insert(len(ans.columns), \"percent_agreement\", percent_agreement)\n",
      "        ans.insert(len(ans.columns), \"match\", match)\n",
      "        ans.insert(0, \"unit_id\", unit_id)\n",
      "\n",
      "        ans = ans.sort([\"conf_score\"], ascending = False)\n",
      "\n",
      "        result.append(ans)\n",
      "\n",
      "    return pd.concat(result)"
     ],
     "language": "python",
     "metadata": {},
     "outputs": [],
     "prompt_number": 5
    },
    {
     "cell_type": "code",
     "collapsed": false,
     "input": [
      "results = determine_broad_reltype_results(euadr_answer, raw_data)"
     ],
     "language": "python",
     "metadata": {},
     "outputs": [],
     "prompt_number": 6
    },
    {
     "cell_type": "code",
     "collapsed": false,
     "input": [
      "for unit_id, group in results.groupby(\"unit_id\"):\n",
      "    print group\n",
      "    print"
     ],
     "language": "python",
     "metadata": {},
     "outputs": [
      {
       "output_type": "stream",
       "stream": "stdout",
       "text": [
        "     unit_id broad_rel_type  conf_score  num_votes  percent_agreement  match\n",
        "1  698757970       positive      6.8960          8           0.808280      0\n",
        "0  698757970          false      0.8500          1           0.099628      1\n",
        "2  698757970    speculative      0.7857          1           0.092092      0\n",
        "\n",
        "     unit_id broad_rel_type  conf_score  num_votes  percent_agreement  match\n",
        "1  698757972       negative      3.5375          4           0.403552      0\n",
        "2  698757972       positive      2.7802          3           0.317161      0\n",
        "0  698757972          false      1.6357          2           0.186598      1\n",
        "3  698757972    speculative      0.8125          1           0.092689      0\n",
        "\n",
        "     unit_id broad_rel_type  conf_score  num_votes  percent_agreement  match\n",
        "0  698757975          false      7.9534          9           0.907311      1\n",
        "1  698757975       positive      0.8125          1           0.092689      0\n",
        "\n",
        "     unit_id broad_rel_type  conf_score  num_votes  percent_agreement  match\n",
        "1  698757976       positive      6.7906          8           0.795926      0\n",
        "2  698757976    speculative      0.9286          1           0.108841      0\n",
        "0  698757976          false      0.8125          1           0.095233      1\n",
        "\n",
        "     unit_id broad_rel_type  conf_score  num_votes  percent_agreement  match\n",
        "0  698757977       positive      6.9556          8           0.801281      0\n",
        "1  698757977    speculative      1.7250          2           0.198719      0\n",
        "\n",
        "     unit_id broad_rel_type  conf_score  num_votes  percent_agreement  match\n",
        "1  698757978       positive      6.0585          7           0.710116      1\n",
        "0  698757978          false      1.5982          2           0.187325      0\n",
        "2  698757978    speculative      0.8750          1           0.102559      0\n",
        "\n",
        "     unit_id broad_rel_type  conf_score  num_votes  percent_agreement  match\n",
        "1  698757979       positive      7.1161          8           0.812164      1\n",
        "2  698757979    speculative      0.8333          1           0.095105      0\n",
        "0  698757979          false      0.8125          1           0.092731      0\n",
        "\n",
        "     unit_id broad_rel_type  conf_score  num_votes  percent_agreement  match\n",
        "1  698757980       positive      5.2337          6           0.607496      1\n",
        "2  698757980    speculative      1.7833          2           0.206995      0\n",
        "0  698757980          false      1.5982          2           0.185509      0\n",
        "\n",
        "     unit_id broad_rel_type  conf_score  num_votes  percent_agreement  match\n",
        "2  698757981       positive      4.3905          5           0.498835      1\n",
        "0  698757981          false      3.6610          4           0.415952      0\n",
        "1  698757981       negative      0.7500          1           0.085213      0\n",
        "\n",
        "     unit_id broad_rel_type  conf_score  num_votes  percent_agreement  match\n",
        "0  698757982       positive       9.105         10                  1      1\n",
        "\n",
        "     unit_id broad_rel_type  conf_score  num_votes  percent_agreement  match\n",
        "0  698757983       positive      8.6152         10                  1      1\n",
        "\n",
        "     unit_id broad_rel_type  conf_score  num_votes  percent_agreement  match\n",
        "2  698757984    speculative      4.4782          5           0.519802      0\n",
        "1  698757984       positive      2.5013          3           0.290336      1\n",
        "0  698757984          false      1.6357          2           0.189862      0\n",
        "\n",
        "     unit_id broad_rel_type  conf_score  num_votes  percent_agreement  match\n",
        "0  698757985       positive      8.7571         10                  1      1\n",
        "\n",
        "     unit_id broad_rel_type  conf_score  num_votes  percent_agreement  match\n",
        "2  698757986       positive      3.5699          4           0.404274      1\n",
        "0  698757986          false      3.4819          4           0.394308      0\n",
        "3  698757986    speculative      0.9286          1           0.105159      0\n",
        "1  698757986       negative      0.8500          1           0.096258      0"
       ]
      },
      {
       "output_type": "stream",
       "stream": "stdout",
       "text": [
        "\n",
        "\n",
        "     unit_id broad_rel_type  conf_score  num_votes  percent_agreement  match\n",
        "2  698757987       positive      6.3978          7           0.718555      1\n",
        "0  698757987          false      0.9286          1           0.104294      0\n",
        "3  698757987    speculative      0.8500          1           0.095466      0\n",
        "1  698757987       negative      0.7273          1           0.081685      0\n",
        "\n",
        "     unit_id broad_rel_type  conf_score  num_votes  percent_agreement  match\n",
        "1  698757988       positive      3.5266          4           0.409346      1\n",
        "2  698757988    speculative      2.6404          3           0.306482      0\n",
        "0  698757988          false      2.4482          3           0.284172      0\n",
        "\n",
        "     unit_id broad_rel_type  conf_score  num_votes  percent_agreement  match\n",
        "2  698757989    speculative      5.9840          7           0.683331      0\n",
        "1  698757989       positive      1.9231          2           0.219605      1\n",
        "0  698757989          false      0.8500          1           0.097064      0\n",
        "\n",
        "     unit_id broad_rel_type  conf_score  num_votes  percent_agreement  match\n",
        "0  698757990       positive      8.9037         10                  1      1\n",
        "\n",
        "     unit_id broad_rel_type  conf_score  num_votes  percent_agreement  match\n",
        "2  698757991       positive      4.5302          5           0.497551      0\n",
        "0  698757991          false      2.7248          3           0.299264      1\n",
        "1  698757991       negative      1.8500          2           0.203185      0\n",
        "\n",
        "     unit_id broad_rel_type  conf_score  num_votes  percent_agreement  match\n",
        "1  698757992       positive      4.3875          5           0.511340      1\n",
        "0  698757992          false      3.4429          4           0.401252      0\n",
        "2  698757992    speculative      0.7500          1           0.087409      0\n",
        "\n",
        "     unit_id broad_rel_type  conf_score  num_votes  percent_agreement  match\n",
        "0  698757993       positive      8.7659         10                  1      1\n",
        "\n",
        "     unit_id broad_rel_type  conf_score  num_votes  percent_agreement  match\n",
        "0  698757994       positive      8.7659         10                  1      1\n",
        "\n",
        "     unit_id broad_rel_type  conf_score  num_votes  percent_agreement  match\n",
        "0  698757996       positive      7.8056          9           0.899201      1\n",
        "1  698757996    speculative      0.8750          1           0.100799      0\n",
        "\n",
        "     unit_id broad_rel_type  conf_score  num_votes  percent_agreement  match\n",
        "1  698757997       positive      7.9842          9           0.904172      1\n",
        "0  698757997       negative      0.8462          1           0.095828      0\n",
        "\n",
        "     unit_id broad_rel_type  conf_score  num_votes  percent_agreement  match\n",
        "0  698757998       positive      8.5317         10                  1      1\n",
        "\n",
        "     unit_id broad_rel_type  conf_score  num_votes  percent_agreement  match\n",
        "0  698757999       positive      6.0583          7            0.69971      1\n",
        "1  698757999    speculative      2.6000          3            0.30029      0\n",
        "\n",
        "     unit_id broad_rel_type  conf_score  num_votes  percent_agreement  match\n",
        "1  698758000       positive      4.9197          6           0.590168      1\n",
        "0  698758000       negative      3.4164          4           0.409832      0\n",
        "\n",
        "     unit_id broad_rel_type  conf_score  num_votes  percent_agreement  match\n",
        "0  698758002       positive      8.9037         10                  1      1\n",
        "\n",
        "     unit_id broad_rel_type  conf_score  num_votes  percent_agreement  match\n",
        "0  698758003       positive      8.6583         10                  1      1\n",
        "\n",
        "     unit_id broad_rel_type  conf_score  num_votes  percent_agreement  match\n",
        "0  698758004       positive      8.6806         10                  1      1"
       ]
      },
      {
       "output_type": "stream",
       "stream": "stdout",
       "text": [
        "\n",
        "\n",
        "     unit_id broad_rel_type  conf_score  num_votes  percent_agreement  match\n",
        "1  698758005       positive      6.1295          7           0.711475      1\n",
        "2  698758005    speculative      1.6357          2           0.189862      0\n",
        "0  698758005          false      0.8500          1           0.098663      0\n",
        "\n",
        "     unit_id broad_rel_type  conf_score  num_votes  percent_agreement  match\n",
        "1  698758006       negative      4.3890          5           0.498665      0\n",
        "2  698758006       positive      3.5625          4           0.404761      0\n",
        "0  698758006          false      0.8500          1           0.096574      1\n",
        "\n",
        "     unit_id broad_rel_type  conf_score  num_votes  percent_agreement  match\n",
        "1  698758008       positive      6.6679          8           0.799882      0\n",
        "0  698758008       negative      0.8500          1           0.101966      0\n",
        "2  698758008    speculative      0.8182          1           0.098151      0\n",
        "\n",
        "     unit_id broad_rel_type  conf_score  num_votes  percent_agreement  match\n",
        "0  698758009       positive      9.2635         11           0.912444      1\n",
        "1  698758009    speculative      0.8889          1           0.087556      0\n",
        "\n",
        "     unit_id broad_rel_type  conf_score  num_votes  percent_agreement  match\n",
        "0  698758010       positive      6.1282          7           0.696268      0\n",
        "1  698758010    speculative      2.6733          3           0.303732      0\n",
        "\n",
        "     unit_id broad_rel_type  conf_score  num_votes  percent_agreement  match\n",
        "0  698758011       positive       8.105          9            0.89017      0\n",
        "1  698758011    speculative       1.000          1            0.10983      0\n",
        "\n",
        "     unit_id broad_rel_type  conf_score  num_votes  percent_agreement  match\n",
        "0  698758012       positive      8.7571         10                  1      1\n",
        "\n",
        "     unit_id broad_rel_type  conf_score  num_votes  percent_agreement  match\n",
        "0  698758013       positive       9.105         10                  1      1\n",
        "\n",
        "     unit_id broad_rel_type  conf_score  num_votes  percent_agreement  match\n",
        "0  698758014          false      4.2872          5           0.514293      0\n",
        "1  698758014       negative      2.3864          3           0.286273      0\n",
        "2  698758014       positive      0.8500          1           0.101966      1\n",
        "3  698758014    speculative      0.8125          1           0.097468      0\n",
        "\n",
        "     unit_id broad_rel_type  conf_score  num_votes  percent_agreement  match\n",
        "0  698758015       positive      8.7619         10                  1      1\n",
        "\n",
        "     unit_id broad_rel_type  conf_score  num_votes  percent_agreement  match\n",
        "0  698758016       positive      8.6583         10                  1      1\n",
        "\n",
        "     unit_id broad_rel_type  conf_score  num_votes  percent_agreement  match\n",
        "0  698758017       positive      6.9068          8            0.78473      0\n",
        "1  698758017    speculative      1.8947          2            0.21527      0\n",
        "\n",
        "     unit_id broad_rel_type  conf_score  num_votes  percent_agreement  match\n",
        "1  698758018       positive      6.0585          7           0.710116      1\n",
        "0  698758018          false      2.4732          3           0.289884      0\n",
        "\n",
        "     unit_id broad_rel_type  conf_score  num_votes  percent_agreement  match\n",
        "0  698758020       positive      4.5643          5           0.501296      0\n",
        "1  698758020    speculative      4.5407          5           0.498704      1\n",
        "\n",
        "     unit_id broad_rel_type  conf_score  num_votes  percent_agreement  match\n",
        "0  698758022       positive      8.6806         10                  1      1\n",
        "\n",
        "     unit_id broad_rel_type  conf_score  num_votes  percent_agreement  match\n",
        "2  698758023       positive      6.6997          8           0.803697      1\n",
        "0  698758023          false      0.8182          1           0.098151      0\n",
        "1  698758023       negative      0.8182          1           0.098151      0"
       ]
      },
      {
       "output_type": "stream",
       "stream": "stdout",
       "text": [
        "\n",
        "\n",
        "     unit_id broad_rel_type  conf_score  num_votes  percent_agreement  match\n",
        "1  698758024       positive      5.4381          6           0.620993      1\n",
        "0  698758024          false      2.4857          3           0.283850      0\n",
        "2  698758024    speculative      0.8333          1           0.095157      0\n",
        "\n",
        "     unit_id broad_rel_type  conf_score  num_votes  percent_agreement  match\n",
        "1  698758025       positive      7.7833          9           0.898941      1\n",
        "0  698758025          false      0.8750          1           0.101059      0\n",
        "\n",
        "     unit_id broad_rel_type  conf_score  num_votes  percent_agreement  match\n",
        "1  698758026    speculative      4.5405          5            0.51821      0\n",
        "0  698758026       positive      4.2214          5            0.48179      0\n",
        "\n",
        "     unit_id broad_rel_type  conf_score  num_votes  percent_agreement  match\n",
        "0  698758027       positive      5.9119          7           0.674728      0\n",
        "1  698758027    speculative      2.8500          3           0.325272      0\n",
        "\n",
        "     unit_id broad_rel_type  conf_score  num_votes  percent_agreement  match\n",
        "1  698758028    speculative      5.3191          6            0.60434      0\n",
        "0  698758028       positive      3.4824          4            0.39566      0\n",
        "\n",
        "     unit_id broad_rel_type  conf_score  num_votes  percent_agreement  match\n",
        "1  698936313       positive      8.0537          9           0.904534      1\n",
        "0  698936313          false      0.8500          1           0.095466      0\n",
        "\n",
        "     unit_id broad_rel_type  conf_score  num_votes  percent_agreement  match\n",
        "0  698936583       positive      8.9037         10                  1      1\n",
        "\n",
        "     unit_id broad_rel_type  conf_score  num_votes  percent_agreement  match\n",
        "0  698936792       positive      7.7571          9           0.885807      1\n",
        "1  698936792    speculative      1.0000          1           0.114193      0\n",
        "\n",
        "     unit_id broad_rel_type  conf_score  num_votes  percent_agreement  match\n",
        "0  698937471       positive      8.6583         10                  1      1\n",
        "\n",
        "     unit_id broad_rel_type  conf_score  num_votes  percent_agreement  match\n",
        "0  698937671       positive      8.7659         10                  1      1\n",
        "\n",
        "     unit_id broad_rel_type  conf_score  num_votes  percent_agreement  match\n",
        "0  698937904          false      8.7619         10                  1      1\n",
        "\n",
        "     unit_id broad_rel_type  conf_score  num_votes  percent_agreement  match\n",
        "0  698939052          false      6.6736          8           0.800566      1\n",
        "1  698939052       negative      1.6625          2           0.199434      0\n",
        "\n",
        "     unit_id broad_rel_type  conf_score  num_votes  percent_agreement  match\n",
        "1  698939741    speculative      6.9804          8           0.813529      1\n",
        "0  698939741          false      1.6000          2           0.186471      0\n",
        "\n",
        "     unit_id broad_rel_type  conf_score  num_votes  percent_agreement  match\n",
        "0  698942095       negative      8.5804         10                  1      1\n",
        "\n",
        "     unit_id broad_rel_type  conf_score  num_votes  percent_agreement  match\n",
        "2  698942663    speculative      7.0806          8           0.815681      1\n",
        "1  698942663       positive      0.8500          1           0.097919      0\n",
        "0  698942663          false      0.7500          1           0.086400      0"
       ]
      },
      {
       "output_type": "stream",
       "stream": "stdout",
       "text": [
        "\n",
        "\n"
       ]
      }
     ],
     "prompt_number": 7
    },
    {
     "cell_type": "code",
     "collapsed": false,
     "input": [
      "sys.path.append(\"/home/toby/global_util/\")\n",
      "from file_util import read_file"
     ],
     "language": "python",
     "metadata": {},
     "outputs": [],
     "prompt_number": 8
    },
    {
     "cell_type": "code",
     "collapsed": false,
     "input": [
      "id_mapping = dict()\n",
      "for line in read_file(\"unit_id_mapping.txt\"):\n",
      "    unit_id, toby_id = line.split('|')\n",
      "    \n",
      "    id_mapping[unit_id] = toby_id"
     ],
     "language": "python",
     "metadata": {},
     "outputs": [],
     "prompt_number": 9
    },
    {
     "cell_type": "code",
     "collapsed": false,
     "input": [
      "expert_agree = dict()\n",
      "for line in read_file(\"num_experts_agree.txt\"):\n",
      "    toby_id, num = line.split('|')\n",
      "    expert_agree[toby_id] = num"
     ],
     "language": "python",
     "metadata": {},
     "outputs": [],
     "prompt_number": 10
    },
    {
     "cell_type": "code",
     "collapsed": false,
     "input": [
      "crowd_percent = dict()\n",
      "for unit_id, group in results.groupby(\"unit_id\"):\n",
      "    if group.iloc[0][\"match\"] != 1: # top answer didn't match experts\n",
      "        crowd_percent[unit_id] = group.iloc[0][\"percent_agreement\"]"
     ],
     "language": "python",
     "metadata": {},
     "outputs": [],
     "prompt_number": 11
    },
    {
     "cell_type": "code",
     "collapsed": false,
     "input": [
      "len(crowd_percent)"
     ],
     "language": "python",
     "metadata": {},
     "outputs": [
      {
       "metadata": {},
       "output_type": "pyout",
       "prompt_number": 12,
       "text": [
        "17"
       ]
      }
     ],
     "prompt_number": 12
    },
    {
     "cell_type": "code",
     "collapsed": false,
     "input": [
      "crowd_percent"
     ],
     "language": "python",
     "metadata": {},
     "outputs": [
      {
       "metadata": {},
       "output_type": "pyout",
       "prompt_number": 13,
       "text": [
        "{698757970: 0.80827970978820174,\n",
        " 698757972: 0.40355240192108061,\n",
        " 698757976: 0.795925782669339,\n",
        " 698757977: 0.80128101744119073,\n",
        " 698757984: 0.51980221004735805,\n",
        " 698757989: 0.68333123979399568,\n",
        " 698757991: 0.49755079626578796,\n",
        " 698758006: 0.49866500028404248,\n",
        " 698758008: 0.79988243903024203,\n",
        " 698758010: 0.69626768164517416,\n",
        " 698758011: 0.89017023613399227,\n",
        " 698758014: 0.51429325463945974,\n",
        " 698758017: 0.78472987558938823,\n",
        " 698758020: 0.5012959912136189,\n",
        " 698758026: 0.51820952076604387,\n",
        " 698758027: 0.6747280840913501,\n",
        " 698758028: 0.60434016928932566}"
       ]
      }
     ],
     "prompt_number": 13
    },
    {
     "cell_type": "code",
     "collapsed": false,
     "input": [
      "expert_v = []\n",
      "crowd_v = []\n",
      "\n",
      "two = []\n",
      "three = []\n",
      "\n",
      "for unit_id, percent in crowd_percent.items():\n",
      "    toby_id = id_mapping[str(unit_id)]\n",
      "    \n",
      "    if toby_id in expert_agree:\n",
      "        print toby_id\n",
      "        \n",
      "        expert_v.append(expert_agree[toby_id])\n",
      "        crowd_v.append(percent)\n",
      "        \n",
      "        if expert_agree[toby_id] == \"2\":\n",
      "            two.append(percent)\n",
      "        else:\n",
      "            three.append(percent)"
     ],
     "language": "python",
     "metadata": {},
     "outputs": [
      {
       "output_type": "stream",
       "stream": "stdout",
       "text": [
        "drug_disease_227\n",
        "drug_disease_107\n",
        "drug_disease_173\n",
        "drug_disease_122\n",
        "drug_disease_124\n",
        "drug_disease_125\n",
        "drug_disease_132\n",
        "drug_disease_202\n",
        "drug_disease_86\n",
        "drug_disease_57\n",
        "drug_disease_223\n"
       ]
      }
     ],
     "prompt_number": 14
    },
    {
     "cell_type": "code",
     "collapsed": false,
     "input": [
      "print len(two) + len(three)"
     ],
     "language": "python",
     "metadata": {},
     "outputs": [
      {
       "output_type": "stream",
       "stream": "stdout",
       "text": [
        "11\n"
       ]
      }
     ],
     "prompt_number": 18
    },
    {
     "cell_type": "code",
     "collapsed": false,
     "input": [
      "two"
     ],
     "language": "python",
     "metadata": {},
     "outputs": [
      {
       "metadata": {},
       "output_type": "pyout",
       "prompt_number": 19,
       "text": [
        "[0.78472987558938823,\n",
        " 0.5012959912136189,\n",
        " 0.49755079626578796,\n",
        " 0.51820952076604387,\n",
        " 0.6747280840913501,\n",
        " 0.60434016928932566,\n",
        " 0.40355240192108061,\n",
        " 0.49866500028404248,\n",
        " 0.69626768164517416,\n",
        " 0.89017023613399227,\n",
        " 0.51429325463945974]"
       ]
      }
     ],
     "prompt_number": 19
    },
    {
     "cell_type": "code",
     "collapsed": false,
     "input": [
      "three"
     ],
     "language": "python",
     "metadata": {},
     "outputs": [
      {
       "metadata": {},
       "output_type": "pyout",
       "prompt_number": 20,
       "text": [
        "[]"
       ]
      }
     ],
     "prompt_number": 20
    },
    {
     "cell_type": "code",
     "collapsed": false,
     "input": [
      "two = pd.Series(two)\n",
      "two"
     ],
     "language": "python",
     "metadata": {},
     "outputs": [
      {
       "metadata": {},
       "output_type": "pyout",
       "prompt_number": 21,
       "text": [
        "0     0.784730\n",
        "1     0.501296\n",
        "2     0.497551\n",
        "3     0.518210\n",
        "4     0.674728\n",
        "5     0.604340\n",
        "6     0.403552\n",
        "7     0.498665\n",
        "8     0.696268\n",
        "9     0.890170\n",
        "10    0.514293\n",
        "dtype: float64"
       ]
      }
     ],
     "prompt_number": 21
    },
    {
     "cell_type": "code",
     "collapsed": false,
     "input": [
      "print len(two)\n",
      "print len(three)"
     ],
     "language": "python",
     "metadata": {},
     "outputs": [
      {
       "output_type": "stream",
       "stream": "stdout",
       "text": [
        "11\n",
        "0\n"
       ]
      }
     ],
     "prompt_number": 22
    },
    {
     "cell_type": "code",
     "collapsed": false,
     "input": [
      "two.mean()"
     ],
     "language": "python",
     "metadata": {},
     "outputs": [
      {
       "metadata": {},
       "output_type": "pyout",
       "prompt_number": 23,
       "text": [
        "0.59852754653084217"
       ]
      }
     ],
     "prompt_number": 23
    },
    {
     "cell_type": "code",
     "collapsed": false,
     "input": [
      "two.std()"
     ],
     "language": "python",
     "metadata": {},
     "outputs": [
      {
       "metadata": {},
       "output_type": "pyout",
       "prompt_number": 24,
       "text": [
        "0.14707301726046981"
       ]
      }
     ],
     "prompt_number": 24
    },
    {
     "cell_type": "code",
     "collapsed": false,
     "input": [
      "three = pd.Series(three)"
     ],
     "language": "python",
     "metadata": {},
     "outputs": [],
     "prompt_number": 22
    },
    {
     "cell_type": "code",
     "collapsed": false,
     "input": [
      "three.mean()"
     ],
     "language": "python",
     "metadata": {},
     "outputs": [
      {
       "metadata": {},
       "output_type": "pyout",
       "prompt_number": 23,
       "text": [
        "nan"
       ]
      }
     ],
     "prompt_number": 23
    },
    {
     "cell_type": "code",
     "collapsed": false,
     "input": [
      "three.std()"
     ],
     "language": "python",
     "metadata": {},
     "outputs": [
      {
       "metadata": {},
       "output_type": "pyout",
       "prompt_number": 24,
       "text": [
        "nan"
       ]
      }
     ],
     "prompt_number": 24
    },
    {
     "cell_type": "code",
     "collapsed": false,
     "input": [
      "d = {\"crowd_v\": crowd_v, \"expert_group\": expert_v}\n",
      "temp = pd.DataFrame(d)"
     ],
     "language": "python",
     "metadata": {},
     "outputs": [],
     "prompt_number": 25
    },
    {
     "cell_type": "code",
     "collapsed": false,
     "input": [
      "temp"
     ],
     "language": "python",
     "metadata": {},
     "outputs": [
      {
       "html": [
        "<div style=\"max-height:1000px;max-width:1500px;overflow:auto;\">\n",
        "<table border=\"1\" class=\"dataframe\">\n",
        "  <thead>\n",
        "    <tr style=\"text-align: right;\">\n",
        "      <th></th>\n",
        "      <th>crowd_v</th>\n",
        "      <th>expert_group</th>\n",
        "    </tr>\n",
        "  </thead>\n",
        "  <tbody>\n",
        "    <tr>\n",
        "      <th>0 </th>\n",
        "      <td> 0.784730</td>\n",
        "      <td> 2</td>\n",
        "    </tr>\n",
        "    <tr>\n",
        "      <th>1 </th>\n",
        "      <td> 0.501296</td>\n",
        "      <td> 2</td>\n",
        "    </tr>\n",
        "    <tr>\n",
        "      <th>2 </th>\n",
        "      <td> 0.497551</td>\n",
        "      <td> 2</td>\n",
        "    </tr>\n",
        "    <tr>\n",
        "      <th>3 </th>\n",
        "      <td> 0.518210</td>\n",
        "      <td> 2</td>\n",
        "    </tr>\n",
        "    <tr>\n",
        "      <th>4 </th>\n",
        "      <td> 0.674728</td>\n",
        "      <td> 2</td>\n",
        "    </tr>\n",
        "    <tr>\n",
        "      <th>5 </th>\n",
        "      <td> 0.604340</td>\n",
        "      <td> 2</td>\n",
        "    </tr>\n",
        "    <tr>\n",
        "      <th>6 </th>\n",
        "      <td> 0.403552</td>\n",
        "      <td> 2</td>\n",
        "    </tr>\n",
        "    <tr>\n",
        "      <th>7 </th>\n",
        "      <td> 0.498665</td>\n",
        "      <td> 2</td>\n",
        "    </tr>\n",
        "    <tr>\n",
        "      <th>8 </th>\n",
        "      <td> 0.696268</td>\n",
        "      <td> 2</td>\n",
        "    </tr>\n",
        "    <tr>\n",
        "      <th>9 </th>\n",
        "      <td> 0.890170</td>\n",
        "      <td> 2</td>\n",
        "    </tr>\n",
        "    <tr>\n",
        "      <th>10</th>\n",
        "      <td> 0.514293</td>\n",
        "      <td> 2</td>\n",
        "    </tr>\n",
        "  </tbody>\n",
        "</table>\n",
        "</div>"
       ],
       "metadata": {},
       "output_type": "pyout",
       "prompt_number": 26,
       "text": [
        "     crowd_v expert_group\n",
        "0   0.784730            2\n",
        "1   0.501296            2\n",
        "2   0.497551            2\n",
        "3   0.518210            2\n",
        "4   0.674728            2\n",
        "5   0.604340            2\n",
        "6   0.403552            2\n",
        "7   0.498665            2\n",
        "8   0.696268            2\n",
        "9   0.890170            2\n",
        "10  0.514293            2"
       ]
      }
     ],
     "prompt_number": 26
    },
    {
     "cell_type": "code",
     "collapsed": false,
     "input": [
      "for lol, group "
     ],
     "language": "python",
     "metadata": {},
     "outputs": [
      {
       "ename": "SyntaxError",
       "evalue": "invalid syntax (<ipython-input-27-c4ef629ae256>, line 1)",
       "output_type": "pyerr",
       "traceback": [
        "\u001b[1;36m  File \u001b[1;32m\"<ipython-input-27-c4ef629ae256>\"\u001b[1;36m, line \u001b[1;32m1\u001b[0m\n\u001b[1;33m    for lol, group\u001b[0m\n\u001b[1;37m                   ^\u001b[0m\n\u001b[1;31mSyntaxError\u001b[0m\u001b[1;31m:\u001b[0m invalid syntax\n"
       ]
      }
     ],
     "prompt_number": 27
    },
    {
     "cell_type": "code",
     "collapsed": false,
     "input": [
      "temp.boxplot(by=\"expert_group\")"
     ],
     "language": "python",
     "metadata": {},
     "outputs": [
      {
       "metadata": {},
       "output_type": "pyout",
       "prompt_number": 28,
       "text": [
        "<matplotlib.axes._subplots.AxesSubplot at 0x7fbb9c59bd10>"
       ]
      },
      {
       "metadata": {},
       "output_type": "display_data",
       "png": "[encoded data removed]",
       "text": [
        "<matplotlib.figure.Figure at 0x7fbb9c5a5190>"
       ]
      }
     ],
     "prompt_number": 28
    },
    {
     "cell_type": "code",
     "collapsed": false,
     "input": [],
     "language": "python",
     "metadata": {},
     "outputs": []
    },
    {
     "cell_type": "code",
     "collapsed": false,
     "input": [],
     "language": "python",
     "metadata": {},
     "outputs": []
    }
   ],
   "metadata": {}
  }
 ]
}