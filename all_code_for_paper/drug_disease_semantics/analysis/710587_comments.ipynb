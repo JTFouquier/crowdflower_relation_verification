{
 "metadata": {
  "name": "",
  "signature": "sha256:335b165561a8558151cfd039c63ed6e0d805e1b3d7ca866ea429a9ffefbf164e"
 },
 "nbformat": 3,
 "nbformat_minor": 0,
 "worksheets": [
  {
   "cells": [
    {
     "cell_type": "heading",
     "level": 2,
     "metadata": {},
     "source": [
      "Analysis of Crowdflower Job #710587"
     ]
    },
    {
     "cell_type": "markdown",
     "metadata": {},
     "source": [
      "2015-04-04 Toby"
     ]
    },
    {
     "cell_type": "markdown",
     "metadata": {},
     "source": [
      "This is our first job to completely finish, so naturally it will be very interesting to see how people did on these drug-disease semantics and deep semantics."
     ]
    },
    {
     "cell_type": "code",
     "collapsed": false,
     "input": [
      "import pandas as pd"
     ],
     "language": "python",
     "metadata": {},
     "outputs": [],
     "prompt_number": 1
    },
    {
     "cell_type": "code",
     "collapsed": false,
     "input": [
      "fname = \"/home/toby/crowdsourcing/drug_disease_semantics/data/job_710587_full_with_untrusted.tsv\"\n",
      "data = pd.read_csv(fname, sep = \"\\t\")"
     ],
     "language": "python",
     "metadata": {},
     "outputs": [],
     "prompt_number": 2
    },
    {
     "cell_type": "markdown",
     "metadata": {},
     "source": [
      "Total rows of data that we collected:"
     ]
    },
    {
     "cell_type": "code",
     "collapsed": false,
     "input": [
      "len(data)"
     ],
     "language": "python",
     "metadata": {},
     "outputs": [
      {
       "metadata": {},
       "output_type": "pyout",
       "prompt_number": 3,
       "text": [
        "2669"
       ]
      }
     ],
     "prompt_number": 3
    },
    {
     "cell_type": "markdown",
     "metadata": {},
     "source": [
      "What sort of comments did the contributors have this time?"
     ]
    },
    {
     "cell_type": "code",
     "collapsed": false,
     "input": [
      "data_with_comments = data[data.comments_box.notnull()]\n",
      "\n",
      "print \"Total judgements with comments:\", len(data_with_comments)\n",
      "\n",
      "unique_comments = set(data_with_comments[\"comments_box\"])\n",
      "unique_comments"
     ],
     "language": "python",
     "metadata": {},
     "outputs": [
      {
       "output_type": "stream",
       "stream": "stdout",
       "text": [
        "Total judgements with comments: 75\n"
       ]
      },
      {
       "metadata": {},
       "output_type": "pyout",
       "prompt_number": 4,
       "text": [
        "{'\"Could\" is speculative in this case?',\n",
        " '\"Far more likely to play a role\", probably its a theory needed to be tried out',\n",
        " '\"Information from the SITE Cohort Study should clarify whether use\"',\n",
        " '\"Information from the SITE Cohort Study should clarify whether use...\"',\n",
        " 'CsA associated with gingival overgrowth.   ET-1 mRNA is associated with both',\n",
        " 'Far more likely',\n",
        " 'I marked speculatively because the info didnt exactly post if it was good or not for the patients',\n",
        " 'I use it',\n",
        " 'Is a testing.',\n",
        " 'No',\n",
        " 'None',\n",
        " 'Silver Nitrate is used to treat Stomal Varices, so it is definitely associated but it is not explicitly stated',\n",
        " 'The drug is merely for pain relief but will not help with the cause - a dislocated shoulder.',\n",
        " 'There is evidence in the literature',\n",
        " 'They can be side effects or positive effect on cyrar illness, it is a bit confusing. (No extra information is given in the sentence)',\n",
        " 'because prednisone was used before BDP was used makes me believe that this drug is definitely used for GVHD, not sure if it treats it though',\n",
        " 'because the radioisotopes dont spontaneous abortions',\n",
        " 'because this people was treat with many medicaments',\n",
        " 'buy increasing risk',\n",
        " 'did not correlate',\n",
        " 'fsdfdsfdsf',\n",
        " 'has been approved for treatment of asthma',\n",
        " 'have tested the hypothesis but does not say which was the result a bit confusing',\n",
        " 'high rate of hypogonadism may be associated with both',\n",
        " 'in patients with  arthritis',\n",
        " 'is like a indiferent!',\n",
        " 'is tested not is a perfect true',\n",
        " 'is used for',\n",
        " 'may control',\n",
        " 'mean that the immunosuppressive drug will cure the fatal cancer',\n",
        " 'no',\n",
        " 'not are associated complety because the people is diabetic women',\n",
        " 'not related',\n",
        " 'peida na farofa e cheira',\n",
        " 'reduced it',\n",
        " 'sdfsdfds',\n",
        " 'sdfsdfs',\n",
        " 'sdfsdfsd',\n",
        " 'sdfsdfsdf',\n",
        " 'sdfsdfsdfsd',\n",
        " 'sdfsdfsf',\n",
        " 'sfsdfsdf',\n",
        " 'side effect',\n",
        " 'sie effect',\n",
        " 'tested but no results given',\n",
        " 'the Csa is induced so will be seek the people with periodontitis',\n",
        " 'the cocaine in excess will be associated with cerebrovascular events!',\n",
        " 'the migraine headache will be destroid with topiramate',\n",
        " \"the posaconazole may cause vomiting betwen other's effects\",\n",
        " 'treatment'}"
       ]
      }
     ],
     "prompt_number": 4
    },
    {
     "cell_type": "markdown",
     "metadata": {},
     "source": [
      "Looks like there is a lot of spam, and half coherent jibberish. There was no super useful comment like what one person left last time."
     ]
    },
    {
     "cell_type": "code",
     "collapsed": false,
     "input": [],
     "language": "python",
     "metadata": {},
     "outputs": []
    }
   ],
   "metadata": {}
  }
 ]
}