{
 "metadata": {
  "name": "",
  "signature": "sha256:b5fa64890e832f963797812b7039f28ee1fa3e7a49e06ea1ddf7d39dd1ba57cf"
 },
 "nbformat": 3,
 "nbformat_minor": 0,
 "worksheets": [
  {
   "cells": [
    {
     "cell_type": "heading",
     "level": 2,
     "metadata": {},
     "source": [
      "Plotting the percent crowd agreement for the top selected choice for all of the 60 work units"
     ]
    },
    {
     "cell_type": "markdown",
     "metadata": {},
     "source": [
      "2015-04-10 Toby"
     ]
    },
    {
     "cell_type": "code",
     "collapsed": false,
     "input": [
      "import pandas as pd\n",
      "import matplotlib.pyplot as plt\n",
      "import matplotlib.patches as mpatches\n",
      "from collections import Counter\n",
      "\n",
      "%matplotlib inline\n",
      "%pylab inline"
     ],
     "language": "python",
     "metadata": {},
     "outputs": [
      {
       "output_type": "stream",
       "stream": "stdout",
       "text": [
        "Populating the interactive namespace from numpy and matplotlib\n"
       ]
      }
     ],
     "prompt_number": 1
    },
    {
     "cell_type": "code",
     "collapsed": false,
     "input": [
      "import sys\n",
      "sys.path.append(\"/home/toby/crowdsourcing/drug_disease_semantics/src/\")\n",
      "\n",
      "from filter_data import filter_data\n",
      "from true_relation_type import get_euadr_relation_type\n",
      "from broad_reltype_performance import determine_broad_reltype_results\n",
      "\n",
      "from broad_reltype_summary import broad_reltype_summary\n",
      "from get_orig_problem import get_orig_problem\n",
      "\n",
      "from collections import defaultdict"
     ],
     "language": "python",
     "metadata": {},
     "outputs": [],
     "prompt_number": 2
    },
    {
     "cell_type": "code",
     "collapsed": false,
     "input": [
      "settings = {\n",
      "    \"loc\": \"/home/toby/crowdsourcing/drug_disease_semantics/data\",\n",
      "    \"fname\": \"job_710587_full_with_untrusted.tsv\",\n",
      "    \"data_subset\": \"normal\",\n",
      "    \"min_accuracy\": 0.7,\n",
      "    \"max_accuracy\": 1.0,\n",
      "    \"sentence_type\": \"all\",\n",
      "    \"categories\": [[\"positive\"], [\"speculative\"], [\"false\"], [\"negative\"]]\n",
      "}\n",
      "\n",
      "raw_data = filter_data(settings)\n",
      "true_relation_type = get_euadr_relation_type(settings)\n",
      "results = determine_broad_reltype_results(true_relation_type, raw_data)"
     ],
     "language": "python",
     "metadata": {},
     "outputs": [],
     "prompt_number": 4
    },
    {
     "cell_type": "markdown",
     "metadata": {},
     "source": [
      "Find the agreement percentages for the top crowd selected choice"
     ]
    },
    {
     "cell_type": "code",
     "collapsed": false,
     "input": [
      "sys.path.append(\"/home/toby/global_util/\")\n",
      "from file_util import read_file\n",
      "from itertools import islice"
     ],
     "language": "python",
     "metadata": {},
     "outputs": [],
     "prompt_number": 5
    },
    {
     "cell_type": "code",
     "collapsed": false,
     "input": [
      "loc = \"/home/toby/crowdsourcing\"\n",
      "id_mapping = dict()\n",
      "for line in read_file(\"unit_id_mapping.txt\", loc):\n",
      "    unit_id, toby_id = line.split('|')\n",
      "    \n",
      "    id_mapping[unit_id] = toby_id"
     ],
     "language": "python",
     "metadata": {},
     "outputs": [],
     "prompt_number": 6
    },
    {
     "cell_type": "code",
     "collapsed": false,
     "input": [
      "raw_toby_mapping = dict()\n",
      "for line in islice(read_file(\"raw_to_toby_mapping.txt\", loc), 1, None):\n",
      "    toby_id, raw_rel_id, num_agree = line.split('|')\n",
      "    raw_toby_mapping[toby_id] = (raw_rel_id, num_agree)"
     ],
     "language": "python",
     "metadata": {},
     "outputs": [],
     "prompt_number": 7
    },
    {
     "cell_type": "code",
     "collapsed": false,
     "input": [
      "percent_agree = pd.Series()\n",
      "for unit_id, group in results.groupby(\"unit_id\"):\n",
      "    percent_agree = percent_agree.set_value(unit_id, group.iloc[0][\"percent_agreement\"] * 100)"
     ],
     "language": "python",
     "metadata": {},
     "outputs": [],
     "prompt_number": 8
    },
    {
     "cell_type": "code",
     "collapsed": false,
     "input": [
      "percent_agree = percent_agree.order(ascending = False)"
     ],
     "language": "python",
     "metadata": {},
     "outputs": [],
     "prompt_number": 9
    },
    {
     "cell_type": "markdown",
     "metadata": {},
     "source": [
      "Keep track of the work unit id so that we can easily talk about examples later"
     ]
    },
    {
     "cell_type": "code",
     "collapsed": false,
     "input": [
      "expert_agree = pd.Series()\n",
      "for unit_id, value in percent_agree.iteritems():\n",
      "    toby_id = id_mapping[str(unit_id)]\n",
      "    expert_agree = expert_agree.set_value(unit_id, float(raw_toby_mapping[toby_id][1]) / 3 * 100)"
     ],
     "language": "python",
     "metadata": {},
     "outputs": [],
     "prompt_number": 10
    },
    {
     "cell_type": "code",
     "collapsed": false,
     "input": [
      "def color(choice):\n",
      "    mapping = {\n",
      "        \"positive\": \"#1E98BA\",\n",
      "        \"negative\": \"0\",\n",
      "        \"false\": \"#CCC926\",\n",
      "        \"speculative\": \"#C56526\"\n",
      "    }\n",
      "    \n",
      "    return mapping[choice]"
     ],
     "language": "python",
     "metadata": {},
     "outputs": [],
     "prompt_number": 11
    },
    {
     "cell_type": "code",
     "collapsed": false,
     "input": [
      "crowd_ans = []\n",
      "\n",
      "colors = pd.Series()\n",
      "for unit_id, val in percent_agree.iteritems():\n",
      "    subset = results.query(\"unit_id == {0}\".format(unit_id))\n",
      "    \n",
      "    colors.set_value(unit_id, color(subset.iloc[0][\"broad_rel_type\"]))\n",
      "    crowd_ans.append(subset.iloc[0][\"broad_rel_type\"])"
     ],
     "language": "python",
     "metadata": {},
     "outputs": [],
     "prompt_number": 12
    },
    {
     "cell_type": "code",
     "collapsed": false,
     "input": [
      "Counter(crowd_ans)"
     ],
     "language": "python",
     "metadata": {},
     "outputs": [
      {
       "metadata": {},
       "output_type": "pyout",
       "prompt_number": 13,
       "text": [
        "Counter({'positive': 47, 'speculative': 6, 'false': 4, 'negative': 3})"
       ]
      }
     ],
     "prompt_number": 13
    },
    {
     "cell_type": "code",
     "collapsed": false,
     "input": [
      "exp_ans = []\n",
      "exp_colors = pd.Series()\n",
      "for unit_id, val in expert_agree.iteritems():\n",
      "    exp_colors.set_value(unit_id, color(true_relation_type[unit_id]))\n",
      "    exp_ans.append(true_relation_type[unit_id])"
     ],
     "language": "python",
     "metadata": {},
     "outputs": [],
     "prompt_number": 14
    },
    {
     "cell_type": "code",
     "collapsed": false,
     "input": [
      "exp_ans"
     ],
     "language": "python",
     "metadata": {},
     "outputs": [
      {
       "metadata": {},
       "output_type": "pyout",
       "prompt_number": 15,
       "text": [
        "['positive',\n",
        " 'positive',\n",
        " 'positive',\n",
        " 'positive',\n",
        " 'positive',\n",
        " 'positive',\n",
        " 'positive',\n",
        " 'positive',\n",
        " 'positive',\n",
        " 'positive',\n",
        " 'positive',\n",
        " 'negative',\n",
        " 'positive',\n",
        " 'positive',\n",
        " 'positive',\n",
        " 'positive',\n",
        " 'positive',\n",
        " 'positive',\n",
        " 'false',\n",
        " 'positive',\n",
        " 'false',\n",
        " 'positive',\n",
        " 'positive',\n",
        " 'positive',\n",
        " 'positive',\n",
        " 'false',\n",
        " 'positive',\n",
        " 'speculative',\n",
        " 'speculative',\n",
        " 'positive',\n",
        " 'false',\n",
        " 'positive',\n",
        " 'false',\n",
        " 'false',\n",
        " 'false',\n",
        " 'false',\n",
        " 'false',\n",
        " 'positive',\n",
        " 'positive',\n",
        " 'positive',\n",
        " 'positive',\n",
        " 'positive',\n",
        " 'false',\n",
        " 'positive',\n",
        " 'false',\n",
        " 'positive',\n",
        " 'positive',\n",
        " 'false',\n",
        " 'positive',\n",
        " 'positive',\n",
        " 'false',\n",
        " 'positive',\n",
        " 'positive',\n",
        " 'speculative',\n",
        " 'positive',\n",
        " 'false',\n",
        " 'false',\n",
        " 'positive',\n",
        " 'positive',\n",
        " 'false']"
       ]
      }
     ],
     "prompt_number": 15
    },
    {
     "cell_type": "code",
     "collapsed": false,
     "input": [
      "percent_agree"
     ],
     "language": "python",
     "metadata": {},
     "outputs": [
      {
       "metadata": {},
       "output_type": "pyout",
       "prompt_number": 16,
       "text": [
        "698758004    100.000000\n",
        "698757990    100.000000\n",
        "698758012    100.000000\n",
        "698758013    100.000000\n",
        "698758002    100.000000\n",
        "698758015    100.000000\n",
        "698758016    100.000000\n",
        "698757998    100.000000\n",
        "698758022    100.000000\n",
        "698757994    100.000000\n",
        "698757993    100.000000\n",
        "698942095    100.000000\n",
        "698758003    100.000000\n",
        "698757985    100.000000\n",
        "698757983    100.000000\n",
        "698936583    100.000000\n",
        "698937471    100.000000\n",
        "698937671    100.000000\n",
        "698937904    100.000000\n",
        "698757982    100.000000\n",
        "698757975     90.731129\n",
        "698936313     90.453407\n",
        "698757997     90.417195\n",
        "698757996     89.920052\n",
        "698758025     89.894090\n",
        "698758011     89.017024\n",
        "698936792     88.580695\n",
        "698942663     81.568094\n",
        "698939741     81.352851\n",
        "698757979     81.216403\n",
        "698757970     80.827971\n",
        "698758023     80.369717\n",
        "698757977     80.128102\n",
        "698939052     80.056621\n",
        "698758008     79.988244\n",
        "698757976     79.592578\n",
        "698758017     78.472988\n",
        "698757987     71.855521\n",
        "698758005     71.147507\n",
        "698757978     71.011639\n",
        "698758018     71.011639\n",
        "698757999     69.971010\n",
        "698758010     69.626768\n",
        "698757989     68.333124\n",
        "698758027     67.472808\n",
        "698758024     62.099325\n",
        "698757980     60.749605\n",
        "698758028     60.434017\n",
        "698758000     59.016806\n",
        "698757984     51.980221\n",
        "698758026     51.820952\n",
        "698758014     51.429325\n",
        "698757992     51.133980\n",
        "698758020     50.129599\n",
        "698757981     49.883543\n",
        "698758006     49.866500\n",
        "698757991     49.755080\n",
        "698757988     40.934627\n",
        "698757986     40.427387\n",
        "698757972     40.355240\n",
        "Length: 60, dtype: float64"
       ]
      }
     ],
     "prompt_number": 16
    },
    {
     "cell_type": "code",
     "collapsed": false,
     "input": [
      "values = list(percent_agree)"
     ],
     "language": "python",
     "metadata": {},
     "outputs": [],
     "prompt_number": 17
    },
    {
     "cell_type": "code",
     "collapsed": false,
     "input": [
      "mapping = {\n",
      "    \"positive\": \"#1E98BA\",\n",
      "    \"negative\": \"0\",\n",
      "    \"false\": \"#CCC926\",\n",
      "    \"speculative\": \"#C56526\"\n",
      "}\n",
      "\n",
      "legend_desc = []\n",
      "for key, colour in mapping.items():\n",
      "    legend_desc.append(mpatches.Patch(color = colour, label = key))"
     ],
     "language": "python",
     "metadata": {},
     "outputs": [],
     "prompt_number": 18
    },
    {
     "cell_type": "code",
     "collapsed": false,
     "input": [
      "temp = pd.Series(values)\n",
      "graph = temp.plot(kind = \"bar\",\n",
      "                  title = \"Agreement percentage for the top answer\\n for all 60 work units shown to crowd\",\n",
      "                  figsize = (15, 5),\n",
      "                  color = list(colors),\n",
      "                  legend = True)\n",
      "\n",
      "graph.set_xlabel(\"Individual sentences that the crowd saw\")\n",
      "graph.set_ylabel(\"Agreement percentage for the top choice\")\n",
      "\n",
      "graph.set_xlim([0, 60])\n",
      "graph.set_ylim([0, 110])\n",
      "\n",
      "plt.legend(handles = legend_desc)"
     ],
     "language": "python",
     "metadata": {},
     "outputs": [
      {
       "metadata": {},
       "output_type": "pyout",
       "prompt_number": 19,
       "text": [
        "<matplotlib.legend.Legend at 0x7f11c5080050>"
       ]
      },
      {
       "metadata": {},
       "output_type": "display_data",
       "png": "[encoded data removed]",
       "text": [
        "<matplotlib.figure.Figure at 0x7f11c5080410>"
       ]
      }
     ],
     "prompt_number": 19
    },
    {
     "cell_type": "markdown",
     "metadata": {},
     "source": [
      "I also want to show what the EU-ADR answer for each work unit was. This will tell us whether the crowd is getting one type of question right a lot, or if there are some choice types that they just can't get right"
     ]
    },
    {
     "cell_type": "code",
     "collapsed": false,
     "input": [
      "exp_values = list(expert_agree)"
     ],
     "language": "python",
     "metadata": {},
     "outputs": [],
     "prompt_number": 20
    },
    {
     "cell_type": "code",
     "collapsed": false,
     "input": [
      "temp2 = pd.Series(exp_values)\n",
      "graph2 = temp2.plot(kind = \"bar\",\n",
      "                    title = \"Expert agreement percentage for the\\n published EU-ADR answer for the 60 sentences shown to crowd\",\n",
      "                    figsize = (15, 5),\n",
      "                    color = list(exp_colors))\n",
      "\n",
      "graph2.set_xlim([0, 60])\n",
      "graph2.set_ylim([0, 110])\n",
      "\n",
      "graph2.set_xlabel(\"Individual sentences that the crowd saw\")\n",
      "graph2.set_ylabel(\"Agreement percentage for the top choice\")\n",
      "\n",
      "plt.legend(handles = legend_desc)"
     ],
     "language": "python",
     "metadata": {},
     "outputs": [
      {
       "metadata": {},
       "output_type": "pyout",
       "prompt_number": 21,
       "text": [
        "<matplotlib.legend.Legend at 0x7f11c4f83590>"
       ]
      },
      {
       "metadata": {},
       "output_type": "display_data",
       "png": "[encoded data removed]",
       "text": [
        "<matplotlib.figure.Figure at 0x7f11c4f83f50>"
       ]
      }
     ],
     "prompt_number": 21
    },
    {
     "cell_type": "code",
     "collapsed": false,
     "input": [
      "percent_agree"
     ],
     "language": "python",
     "metadata": {},
     "outputs": [
      {
       "metadata": {},
       "output_type": "pyout",
       "prompt_number": 22,
       "text": [
        "698758004    100.000000\n",
        "698757990    100.000000\n",
        "698758012    100.000000\n",
        "698758013    100.000000\n",
        "698758002    100.000000\n",
        "698758015    100.000000\n",
        "698758016    100.000000\n",
        "698757998    100.000000\n",
        "698758022    100.000000\n",
        "698757994    100.000000\n",
        "698757993    100.000000\n",
        "698942095    100.000000\n",
        "698758003    100.000000\n",
        "698757985    100.000000\n",
        "698757983    100.000000\n",
        "698936583    100.000000\n",
        "698937471    100.000000\n",
        "698937671    100.000000\n",
        "698937904    100.000000\n",
        "698757982    100.000000\n",
        "698757975     90.731129\n",
        "698936313     90.453407\n",
        "698757997     90.417195\n",
        "698757996     89.920052\n",
        "698758025     89.894090\n",
        "698758011     89.017024\n",
        "698936792     88.580695\n",
        "698942663     81.568094\n",
        "698939741     81.352851\n",
        "698757979     81.216403\n",
        "698757970     80.827971\n",
        "698758023     80.369717\n",
        "698757977     80.128102\n",
        "698939052     80.056621\n",
        "698758008     79.988244\n",
        "698757976     79.592578\n",
        "698758017     78.472988\n",
        "698757987     71.855521\n",
        "698758005     71.147507\n",
        "698757978     71.011639\n",
        "698758018     71.011639\n",
        "698757999     69.971010\n",
        "698758010     69.626768\n",
        "698757989     68.333124\n",
        "698758027     67.472808\n",
        "698758024     62.099325\n",
        "698757980     60.749605\n",
        "698758028     60.434017\n",
        "698758000     59.016806\n",
        "698757984     51.980221\n",
        "698758026     51.820952\n",
        "698758014     51.429325\n",
        "698757992     51.133980\n",
        "698758020     50.129599\n",
        "698757981     49.883543\n",
        "698758006     49.866500\n",
        "698757991     49.755080\n",
        "698757988     40.934627\n",
        "698757986     40.427387\n",
        "698757972     40.355240\n",
        "Length: 60, dtype: float64"
       ]
      }
     ],
     "prompt_number": 22
    },
    {
     "cell_type": "code",
     "collapsed": false,
     "input": [
      "orig_problem = get_orig_problem(raw_data)"
     ],
     "language": "python",
     "metadata": {},
     "outputs": [],
     "prompt_number": 23
    },
    {
     "cell_type": "code",
     "collapsed": false,
     "input": [
      "rev_percent_agree = percent_agree.order()\n",
      "for unit_id, percent in rev_percent_agree.iteritems():\n",
      "    \n",
      "    if percent > 50:\n",
      "        break\n",
      "        \n",
      "    print unit_id, percent\n",
      "    print orig_problem[unit_id][3]\n",
      "    print"
     ],
     "language": "python",
     "metadata": {},
     "outputs": [
      {
       "output_type": "stream",
       "stream": "stdout",
       "text": [
        "698757972 40.3552401921\n",
        "No significant differences were observed between FeSO4+citrate and [[NaFe-EDTA]] fortification, regarding mitigation of [[iron-deficiency anemia]] (IDA) or regarding CRP, growth, infections, or side-effects.\n",
        "\n",
        "698757986 40.4273872078\n",
        "Similarly, the same regimen of posaconazole reduced invasive fungal infections (95% CI -9.7 to -2.5) and [[aspergillosis]] (CI not reported, p < 0.001) when compared with fluconazole and [[itraconazole]] in neutropenic patients.\n",
        "\n",
        "698757988 40.9346271706\n",
        "To determine cancer risk in a cohort of 459 [[rheumatoid arthritis]] (RA) patients treated with [[methotrexate]] in community practice.\n",
        "\n",
        "698757991 49.7550796266\n",
        "Dental surgery for these children has historically consisted of decreasing and/or discontinuing the oral [[anticoagulant]] and instituting heparin therapy prior to the planned dental procedure, which can result in [[thromboembolism]] and increased morbidity and mortality.\n",
        "\n",
        "698758006 49.8665000284\n",
        "Compared with both diuretics and contemporary agents, [[amlodipine]] decreases cardiovascular events to a similar or greater extent without evidence for increased [[coronary heart disease]], gastrointestinal bleeding or cancer.\n",
        "\n",
        "698757981 49.883542578\n",
        "[[Intra-articular injection of lidocaine]] before closed reduction of [[anterior shoulder dislocation]] produces the same pain relief as intravenous meperidine and diazepam.\n",
        "\n"
       ]
      }
     ],
     "prompt_number": 24
    },
    {
     "cell_type": "code",
     "collapsed": false,
     "input": [
      "for unit_id, p_agree in percent_agree.iteritems():\n",
      "    subset = results.query(\"unit_id == {0}\".format(unit_id))\n",
      "    if true_relation_type[unit_id] != subset.iloc[0][\"broad_rel_type\"]:\n",
      "        print unit_id, p_agree\n",
      "        print \"crowd:\", subset.iloc[0][\"broad_rel_type\"]\n",
      "        print \"euadr:\", true_relation_type[unit_id]\n",
      "        print orig_problem[unit_id][3]\n",
      "        print"
     ],
     "language": "python",
     "metadata": {},
     "outputs": [
      {
       "output_type": "stream",
       "stream": "stdout",
       "text": [
        "698758011 89.0170236134\n",
        "crowd: positive\n",
        "euadr: false\n",
        "Past use of antimetabolites, T-cell inhibitors, [[alkylating agents]], and other immunosuppressives is ascertained from medical records of approximately 9,250 [[ocular inflammation]] patients at five tertiary centers over up to 30 years.\n",
        "\n",
        "698757970 80.8279709788\n",
        "crowd: positive\n",
        "euadr: false\n",
        "[[Cardiovascular thromboembolic adverse effects]] associated with [[cyclooxygenase]]-2 selective inhibitors and nonselective antiinflammatory drugs.\n",
        "\n",
        "698757977 80.1281017441\n",
        "crowd: positive\n",
        "euadr: false\n",
        "This article reviewed recent results from randomized, double-blind studies of children with [[mild asthma]] treated with [[montelukast]], a leukotriene receptor antagonist that is approved for the treatment of asthma and allergic rhinitis in children and adults.\n",
        "\n",
        "698758008 79.988243903\n",
        "crowd: positive\n",
        "euadr: false\n",
        "The chemopreventive activity of 5-ASA was evaluated in the Swiss Webster model of azoxymethane (AOM)/dextran sulfate sodium ([[DSS]])-induced [[colitis-associated neoplasia]].\n",
        "\n",
        "698757976 79.5925782669\n",
        "crowd: positive\n",
        "euadr: false\n",
        "Review of recent results of [[montelukast]] use as a monotherapy in children with [[mild asthma]].\n",
        "\n",
        "698758017 78.4729875589\n",
        "crowd: positive\n",
        "euadr: false\n",
        "Two years after initiating [[SRL]], she presented complaints of progressive dyspnoea, [[nonproductive cough]], chest pain and low-grade fever of 1 month duration.\n",
        "\n",
        "698758010 69.6267681645\n",
        "crowd: positive\n",
        "euadr: false\n",
        "Recently, there have been reports of [[noninfectious granulomatous syndromes]] in patients receiving [[etanercept]] for a variety of diseases.\n",
        "\n",
        "698757989 68.3331239794\n",
        "crowd: speculative\n",
        "euadr: positive\n",
        "The aim of this study was to evaluate the effects of indomethacin-loaded nanocapsules and [[indomethacin ethyl ester-loaded nanocapsules]] on [[glioma]] cell lines.\n",
        "\n",
        "698758027 67.4728084091\n",
        "crowd: positive\n",
        "euadr: false\n",
        "Maternal use of [[BZD]] and/or HBRA may increase the risk for [[preterm birth]] and low birth weight and cause neonatal symptoms, but does not appear to have a strong teratogenic potential.\n",
        "\n",
        "698758028 60.4340169289\n",
        "crowd: speculative\n",
        "euadr: false\n",
        "Exposure to Benzodiazepines ([[BZD]]) during foetal life has been suggested to contribute to neonatal morbidity and some congenital malformations, for example, [[orofacial clefts]].\n",
        "\n",
        "698757984 51.9802210047\n",
        "crowd: speculative\n",
        "euadr: positive\n",
        "Selective cytotoxicity of [[indomethacin]] and [[indomethacin]] ethyl ester-loaded nanocapsules against [[glioma]] cell lines: an in vitro study.\n",
        "\n",
        "698758026 51.8209520766\n",
        "crowd: speculative\n",
        "euadr: false\n",
        "Exposure to [[Benzodiazepines]] (BZD) during foetal life has been suggested to contribute to neonatal morbidity and some congenital malformations, for example, [[orofacial clefts]].\n",
        "\n",
        "698758014"
       ]
      },
      {
       "output_type": "stream",
       "stream": "stdout",
       "text": [
        " 51.4293254639\n",
        "crowd: false\n",
        "euadr: positive\n",
        "Data of our study revealed an unexpected high rate of hypogonadism irrespective of [[cyclophosphamide]] use, and subclinical involvement of the testes by the [[vasculitis]] itself might be an alternative explanation.\n",
        "\n",
        "698758020 50.1295991214\n",
        "crowd: positive\n",
        "euadr: speculative\n",
        "At this time, [[posaconazole]] should probably be reserved for prophylaxis in patients at high risk for invasive fungal infection, as salvage therapy in refractory or [[resistant infections]], or for patients with intolerance to other therapies.\n",
        "\n",
        "698758006 49.8665000284\n",
        "crowd: negative\n",
        "euadr: false\n",
        "Compared with both diuretics and contemporary agents, [[amlodipine]] decreases cardiovascular events to a similar or greater extent without evidence for increased [[coronary heart disease]], gastrointestinal bleeding or cancer.\n",
        "\n",
        "698757991 49.7550796266\n",
        "crowd: positive\n",
        "euadr: false\n",
        "Dental surgery for these children has historically consisted of decreasing and/or discontinuing the oral [[anticoagulant]] and instituting heparin therapy prior to the planned dental procedure, which can result in [[thromboembolism]] and increased morbidity and mortality.\n",
        "\n",
        "698757972 40.3552401921\n",
        "crowd: negative\n",
        "euadr: false\n",
        "No significant differences were observed between FeSO4+citrate and [[NaFe-EDTA]] fortification, regarding mitigation of [[iron-deficiency anemia]] (IDA) or regarding CRP, growth, infections, or side-effects.\n",
        "\n"
       ]
      }
     ],
     "prompt_number": 25
    },
    {
     "cell_type": "code",
     "collapsed": false,
     "input": [
      "lol = [698757982,\n",
      " 698757985,\n",
      " 698757990,\n",
      " 698757992,\n",
      " 698757994,\n",
      " 698758000,\n",
      " 698758003,\n",
      " 698758004,\n",
      " 698758005,\n",
      " 698758012,\n",
      " 698758013,\n",
      " 698758015,\n",
      " 698758016,\n",
      " 698758022,\n",
      " 698936313,\n",
      " 698936792,\n",
      " 698937471,\n",
      " 698937671,\n",
      " 698939741,\n",
      " 698942095]"
     ],
     "language": "python",
     "metadata": {},
     "outputs": [],
     "prompt_number": 26
    },
    {
     "cell_type": "code",
     "collapsed": false,
     "input": [
      "anss = 0\n",
      "for unit_id in lol:\n",
      "    subset = results.query(\"unit_id == {0}\".format(unit_id))\n",
      "    \n",
      "    print subset.iloc[0][\"percent_agreement\"]\n",
      "    \n",
      "    print \"crowd:\", subset.iloc[0][\"broad_rel_type\"]\n",
      "    print \"expert:\", true_relation_type[unit_id]\n",
      "    \n",
      "    print orig_problem[unit_id][3]\n",
      "    print\n",
      "    \n",
      "    anss += int(subset.iloc[0][\"broad_rel_type\"] == true_relation_type[unit_id])"
     ],
     "language": "python",
     "metadata": {},
     "outputs": [
      {
       "output_type": "stream",
       "stream": "stdout",
       "text": [
        "1.0\n",
        "crowd: positive\n",
        "expert: positive\n",
        "Administration of full-dose R-CHOP (rituximab/[[cyclophosphamide]]/doxorubicin/vincristine/prednisone) chemotherapy is important to maximize response in patients with intermediate-or [[high-grade non-Hodgkin lymphoma]] but might be difficult in older patients.\n",
        "\n",
        "1.0\n",
        "crowd: positive\n",
        "expert: positive\n",
        "The main finding of the present study is that [[indomethacin-loaded nanocapsules]] formulation was more potent than a solution of indomethacin in decreasing the viability and cell proliferation of [[glioma]] lines.\n",
        "\n",
        "1.0\n",
        "crowd: positive\n",
        "expert: positive\n",
        "Compared with the general population, [[methotrexate]]-treated RA patients have an increased incidence of melanoma, non-Hodgkin's lymphoma, and [[lung cancer]].\n",
        "\n",
        "0.511339797678\n",
        "crowd: positive\n",
        "expert: positive\n",
        "ET-1 mRNA expression was significantly higher in patients with [[CsA]]-induced [[gingival overgrowth]] (P <0.001) than in patients with periodontitis and the controls.\n",
        "\n",
        "1.0\n",
        "crowd: positive\n",
        "expert: positive\n",
        "Finally, in non-small cell lung cancer ([[NSCLC]]) in patients' progressing on chemotherapy [[sutent]] was able to achieve a 10% response rate, a level of activity similar to those documented by other agents approved for lung cancer.\n",
        "\n",
        "0.590168064203\n",
        "crowd: positive\n",
        "expert: positive\n",
        "There is evidence in the literature that inhaled corticosteroids ([[ICSs]]) are safe for pregnant women with [[asthma]] and their infants.\n",
        "\n",
        "1.0\n",
        "crowd: positive\n",
        "expert: positive\n",
        "Results - The [[topiramate]] group showed a reduction in the mean (+/-SD) of monthly [[migraine]] frequency from 6.07 (+/-1.89) to 1.83 (+/-1.39) episodes per month, headache intensity from 7.1 (+/-1.45) to 3.67 (+/-2.1) based on the Visual Analog Scale, and headache duration from 16.37 (+/-7.26) to 6.23 (+/-5.22) hours (P < 0.001).\n",
        "\n",
        "1.0\n",
        "crowd: positive\n",
        "expert: positive\n",
        "Long-term exposure to [[medium-dose glucocorticoid]] therapy associates with [[hypertension]] in patients with rheumatoid arthritis.\n",
        "\n",
        "0.711475067323\n",
        "crowd: positive\n",
        "expert: positive\n",
        "[[Pulmonary alveolar proteinosis]]: a rare pulmonary toxicity of [[sirolimus]].\n",
        "\n",
        "1.0\n",
        "crowd: positive\n",
        "expert: positive\n",
        "The primary reasons for withdrawal were similar across groups except for [[gout flares]], which were more frequent with [[febuxostat]] than with allopurinol.\n",
        "\n",
        "1.0\n",
        "crowd: positive\n",
        "expert: positive\n",
        "[[BiRD]] is an effective regimen with manageable side effects in the treatment of symptomatic, newly diagnosed [[multiple myeloma]].\n",
        "\n",
        "1.0\n",
        "crowd: positive\n",
        "expert: positive\n",
        "The most common adverse effects associated with the use of [[posaconazole]] include headache, fever, nausea, vomiting, and [[diarrhea]].\n",
        "\n",
        "1.0\n",
        "crowd: positive\n",
        "expert: positive\n",
        "[[PAP]] is a very rare complication of [[SRL]] therapy with only a few cases described.\n",
        "\n",
        "1.0\n",
        "crowd: positive\n",
        "expert: positive\n",
        "[[Posaconazole]], in doses of 200 mg 3 times daily, reduced breakthrough [[invasive fungal infections]] (OR 0.30; 95% CI 0.12 to 0.71) and aspergillosis incidence (OR 0.31; 95% CI 0.13 to 0.75) in patients receiving hematopoietic stem-cell transplants compared with those receiving fluconazole.\n",
        "\n",
        "0.904534070106\n",
        "crowd: positive\n",
        "expert: positive\n",
        "[[Cocaine]] abuse is associated with [[cerebrovascular events]]; spinal cord effects are rarely reported.\n",
        "\n",
        "0.885806945222\n",
        "crowd: positive\n",
        "expert: positive\n",
        "This study demonstrated that both low-dose [[topiramate]] and propranolol could significantly reduce [[migraine headache]] frequency, intensity, and duration.\n",
        "\n",
        "1.0\n",
        "crowd: positive\n",
        "expert: positive\n",
        "For exposure levels within standard recommended guidelines, [[radioisotopes]] are far more likely to play a role in the occurrence of [[spontaneous abortions]] than X-rays.\n",
        "\n",
        "1.0\n",
        "crowd: positive\n",
        "expert: positive\n",
        "The most common adverse effects associated with the use of [[posaconazole]] include headache, fever, nausea, [[vomiting]], and diarrhea.\n",
        "\n",
        "0.81352850683\n",
        "crowd: speculative\n",
        "expert: speculative\n",
        "Information from the SITE Cohort Study should clarify whether use of these [[immunosuppressive drugs]] for ocular inflammation increases the risk of mortality and [[fatal cancer]].\n",
        "\n",
        "1.0\n",
        "crowd: negative\n",
        "expert: negative\n",
        "We found no evidence of impaired control of the carbohydrate and lipid metabolism or aggravation of [[vascular lesions]] during the two years an [[etonogestrel]] implant was used by diabetic women.\n",
        "\n"
       ]
      }
     ],
     "prompt_number": 27
    },
    {
     "cell_type": "code",
     "collapsed": false,
     "input": [
      "anss"
     ],
     "language": "python",
     "metadata": {},
     "outputs": [
      {
       "metadata": {},
       "output_type": "pyout",
       "prompt_number": 28,
       "text": [
        "20"
       ]
      }
     ],
     "prompt_number": 28
    },
    {
     "cell_type": "code",
     "collapsed": false,
     "input": [],
     "language": "python",
     "metadata": {},
     "outputs": [],
     "prompt_number": 28
    },
    {
     "cell_type": "code",
     "collapsed": false,
     "input": [],
     "language": "python",
     "metadata": {},
     "outputs": [],
     "prompt_number": 28
    },
    {
     "cell_type": "code",
     "collapsed": false,
     "input": [],
     "language": "python",
     "metadata": {},
     "outputs": []
    }
   ],
   "metadata": {}
  }
 ]
}