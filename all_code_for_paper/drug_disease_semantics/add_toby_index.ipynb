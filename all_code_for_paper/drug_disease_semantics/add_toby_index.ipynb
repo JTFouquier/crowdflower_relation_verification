{
 "metadata": {
  "name": "",
  "signature": "sha256:efca80253c67fe16e023dedcf2ae3bca8567524f9a96d1996effc0e23ce2b375"
 },
 "nbformat": 3,
 "nbformat_minor": 0,
 "worksheets": [
  {
   "cells": [
    {
     "cell_type": "markdown",
     "metadata": {},
     "source": [
      "Add a unique identifier to the drug-disease relations for easy indexing"
     ]
    },
    {
     "cell_type": "code",
     "collapsed": false,
     "input": [
      "import os\n",
      "import pandas as pd\n",
      "import numpy as np"
     ],
     "language": "python",
     "metadata": {},
     "outputs": [],
     "prompt_number": 1
    },
    {
     "cell_type": "code",
     "collapsed": false,
     "input": [
      "def convert(text):\n",
      "    mapping = {\n",
      "        \"PA\": \"positive\",\n",
      "        \"SA\": \"speculative\",\n",
      "        \"FA\": \"false\",\n",
      "        \"NA\": \"negative\",\n",
      "        np.nan: \"negative\"\n",
      "    }\n",
      "    return mapping[text]"
     ],
     "language": "python",
     "metadata": {},
     "outputs": [],
     "prompt_number": 2
    },
    {
     "cell_type": "code",
     "collapsed": false,
     "input": [
      "pub_euadr = pd.read_csv(\"data/EUADR_drug_disease.csv\", sep = \"\\t\")\n",
      "pub_euadr[\"ASSOCIATION_TYPE\"] = pub_euadr[\"ASSOCIATION_TYPE\"].apply(convert)"
     ],
     "language": "python",
     "metadata": {},
     "outputs": [],
     "prompt_number": 3
    },
    {
     "cell_type": "code",
     "collapsed": false,
     "input": [
      "toby_id = pd.Series([\"drug_disease_{0}\".format(i) for i in range(len(pub_euadr))])\n",
      "pub_euadr[\"toby_id\"] = toby_id\n",
      "pub_euadr.to_csv(\"EUADR_drug_disease_with_toby_identifiers.tsv\", sep = \"\\t\", index = False)"
     ],
     "language": "python",
     "metadata": {},
     "outputs": [],
     "prompt_number": 4
    },
    {
     "cell_type": "code",
     "collapsed": false,
     "input": [],
     "language": "python",
     "metadata": {},
     "outputs": []
    }
   ],
   "metadata": {}
  }
 ]
}